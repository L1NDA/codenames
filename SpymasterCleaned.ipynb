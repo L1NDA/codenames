{
 "cells": [
  {
   "cell_type": "code",
   "execution_count": 5,
   "metadata": {},
   "outputs": [],
   "source": [
    "import numpy as np\n",
    "import random\n",
    "import gensim\n",
    "from nltk.corpus import words\n",
    "from functools import reduce\n",
    "import heapq\n",
    "import os\n",
    "import collections\n",
    "from sklearn.cluster import KMeans\n",
    "from sklearn import metrics"
   ]
  },
  {
   "cell_type": "code",
   "execution_count": 6,
   "metadata": {},
   "outputs": [],
   "source": [
    "model = gensim.models.KeyedVectors.load_word2vec_format('wiki-news-300d-1M-subword.vec', binary=False)"
   ]
  },
  {
   "cell_type": "code",
   "execution_count": 88,
   "metadata": {},
   "outputs": [],
   "source": [
    "\n",
    "words_upper = [\"Hollywood\", \"Well\", \"Foot\", \"New York\", \"Spring\", \"Court\", \"Tube\", \"Point\", \"Tablet\", \"Slip\", \"Date\", \"Drill\", \"Lemon\", \"Bell\", \"Screen\", \"Fair\", \"Torch\", \"State\", \"Match\", \"Iron\", \"Block\", \"France\", \"Australia\", \"Limousine\", \"Stream\", \"Glove\", \"Nurse\", \"Leprechaun\", \"Play\", \"Tooth\", \"Arm\", \"Bermuda\", \"Diamond\", \"Whale\", \"Comic\", \"Mammoth\", \"Green\", \"Pass\", \"Missile\", \"Paste\", \"Drop\", \"Pheonix\", \"Marble\", \"Staff\", \"Figure\", \"Park\", \"Centaur\", \"Shadow\", \"Fish\", \"Cotton\", \"Egypt\", \"Theater\", \"Scale\", \"Fall\", \"Track\", \"Force\", \"Dinosaur\", \"Bill\", \"Mine\", \"Turkey\", \"March\", \"Contract\", \"Bridge\", \"Robin\", \"Line\", \"Plate\", \"Band\", \"Fire\", \"Bank\", \"Boom\", \"Cat\", \"Shot\", \"Suit\", \"Chocolate\", \"Roulette\", \"Mercury\", \"Moon\", \"Net\", \"Lawyer\", \"Satellite\", \"Angel\", \"Spider\", \"Germany\", \"Fork\", \"Pitch\", \"King\", \"Crane\", \"Trip\", \"Dog\", \"Conductor\", \"Part\", \"Bugle\", \"Witch\", \"Ketchup\", \"Press\", \"Spine\", \"Worm\", \"Alps\", \"Bond\", \"Pan\", \"Beijing\", \"Racket\", \"Cross\", \"Seal\", \"Aztec\", \"Maple\", \"Parachute\", \"Hotel\", \"Berry\", \"Soldier\", \"Ray\", \"Post\", \"Greece\", \"Square\", \"Mass\", \"Bat\", \"Wave\", \"Car\", \"Smuggler\", \"England\", \"Crash\", \"Tail\", \"Card\", \"Horn\", \"Capital\", \"Fence\", \"Deck\", \"Buffalo\", \"Microscope\", \"Jet\", \"Duck\", \"Ring\", \"Train\", \"Field\", \"Gold\", \"Tick\", \"Check\", \"Queen\", \"Strike\", \"Kangaroo\", \"Spike\", \"Scientist\", \"Engine\", \"Shakespeare\", \"Wind\", \"Kid\", \"Embassy\", \"Robot\", \"Note\", \"Ground\", \"Draft\", \"Ham\", \"War\", \"Mouse\", \"Center\", \"China\", \"Bolt\", \"Spot\", \"Piano\", \"Pupil\", \"Plot\", \"Lion\", \"Police\", \"Head\", \"Litter\", \"Concert\", \"Mug\", \"Vacuum\", \"Atlantis\", \"Straw\", \"Switch\", \"Skyscraper\", \"Laser\", \"Scuba Diver\", \"Africa\", \"Plastic\", \"Dwarf\", \"Lap\", \"Life\", \"Honey\", \"Horseshoe\", \"Unicorn\", \"Spy\", \"Pants\", \"Wall\", \"Paper\", \"Sound\", \"Ice\", \"Tag\", \"Web\", \"Fan\", \"Orange\", \"Temple\", \"Canada\", \"Scorpion\", \"Undertaker\", \"Mail\", \"Europe\", \"Soul\", \"Apple\", \"Pole\", \"Tap\", \"Mouth\", \"Ambulance\", \"Dress\", \"IceCream\", \"Rabbit\", \"Buck\", \"Agent\", \"Sock\", \"Nut\", \"Boot\", \"Ghost\", \"Oil\", \"Superhero\", \"Code\", \"Kiwi\", \"Hospital\", \"Saturn\", \"Film\", \"Button\", \"Snowman\", \"Helicopter\", \"Log\", \"Princess\", \"Time\", \"Cook\", \"Revolution\", \"Shoe\", \"Mole\", \"Spell\", \"Grass\", \"Washer\", \"Game\", \"Beat\", \"Hole\", \"Horse\", \"Pirate\", \"Link\", \"Dance\", \"Fly\", \"Pit\", \"Server\", \"School\", \"Lock\", \"Brush\", \"Pool\", \"Star\", \"Jam\", \"Organ\", \"Berlin\", \"Face\", \"Luck\", \"Amazon\", \"Cast\", \"Gas\", \"Club\", \"Sink\", \"Water\", \"Chair\", \"Shark\", \"Jupiter\", \"Copper\", \"Jack\", \"Platypus\", \"Stick\", \"Olive\", \"Grace\", \"Bear\", \"Glass\", \"Row\", \"Pistol\", \"London\", \"Rock\", \"Van\", \"Vet\", \"Beach\", \"Charge\", \"Port\", \"Disease\", \"Palm\", \"Moscow\", \"Pin\", \"Washington\", \"Pyramid\", \"Opera\", \"Casino\", \"Pilot\", \"String\", \"Night\", \"Chest\", \"Yard\", \"Teacher\", \"Pumpkin\", \"Thief\", \"Bark\", \"Bug\", \"Mint\", \"Cycle\", \"Telescope\", \"Calf\", \"Air\", \"Box\", \"Mount\", \"Thumb\", \"Antarctica\", \"Trunk\", \"Snow\", \"Penguin\", \"Root\", \"Bar\", \"File\", \"Hawk\", \"Battery\", \"Compound\", \"Slug\", \"Octopus\", \"Whip\", \"America\", \"Ivory\", \"Pound\", \"Sub\", \"Cliff\", \"Lab\", \"Eagle\", \"Genius\", \"Ship\", \"Dice\", \"Hood\", \"Heart\", \"Novel\", \"Pipe\", \"Himalayas\", \"Crown\", \"Round\", \"India\", \"Needle\", \"Shop\", \"Watch\", \"Lead\", \"Tie\", \"Table\", \"Cell\", \"Cover\", \"Czech\", \"Back\", \"Bomb\", \"Ruler\", \"Forest\", \"Bottle\", \"Space\", \"Hook\", \"Doctor\", \"Ball\", \"Bow\", \"Degree\", \"Rome\", \"Plane\", \"Giant\", \"Nail\", \"Dragon\", \"Stadium\", \"Flute\", \"Carrot\", \"Wake\", \"Fighter\", \"Model\", \"Tokyo\", \"Eye\", \"Mexico\", \"Hand\", \"Swing\", \"Key\", \"Alien\", \"Tower\", \"Poison\", \"Cricket\", \"Cold\", \"Knife\", \"Church\", \"Board\", \"Cloak\", \"Ninja\", \"Olympus\", \"Belt\", \"Light\", \"Death\", \"Stock\", \"Millionaire\", \"Day\", \"Knight\", \"Pie\", \"Bed\", \"Circle\", \"Rose\", \"Change\", \"Cap\", \"Triangle\", \"Chick\"]\n",
    "words = [x.lower() for x in words_upper]\n",
    "\n",
    "# generate new board\n",
    "def new_game(words) :\n",
    "    board = random.sample(words, 25)\n",
    "\n",
    "    p1 = board[:9]\n",
    "    p2 = board[9:17]\n",
    "    neu = board[17:24]\n",
    "    assassin = [board[24]]\n",
    "    p1_vecs = model[p1]\n",
    "    p2_vecs = model[p2]\n",
    "    assassin_vec = model[assassin]\n",
    "    \n",
    "    return board, p1, p2, neu, assassin, p1_vecs, p2_vecs, assassin_vec\n",
    "    \n",
    "# https://stackoverflow.com/questions/40828929/sklearn-mean-distance-from-centroid-of-each-cluster\n",
    "\n",
    "def clustering(vecs, n=5) :\n",
    "    initial = KMeans(n_clusters=n)\n",
    "    clusters = initial.fit_predict(vecs)\n",
    "    centroids = initial.cluster_centers_\n",
    "    \n",
    "    # finding cluster size and tightness\n",
    "    mean_dists = {}\n",
    "    mean_count = {}\n",
    "    for i in range(n):\n",
    "        mean_dists[i] = 0\n",
    "        mean_count[i] = 0\n",
    "    \n",
    "    for i in range(9) :\n",
    "        cluster = clusters[i]\n",
    "        centroid = centroids[cluster]\n",
    "        dist = np.linalg.norm(centroid-p1_vecs[i])\n",
    "        mean_dists[cluster] += dist\n",
    "        mean_count[cluster] += 1\n",
    "    \n",
    "    mean_of_cluster = []\n",
    "    for i in range(n):\n",
    "        mean_of_cluster.append(mean_dists[i]/mean_count[i])\n",
    "    \n",
    "\n",
    "    \n",
    "    return clusters, mean_count, mean_of_cluster\n",
    "\n",
    "# finding largest cluster from list of clusters\n",
    "def largest_cluster(clusters, mean_count) :\n",
    "    cur_max = mean_count[0]\n",
    "    max_i = 0\n",
    "    for i in range(len(mean_count)):\n",
    "        if mean_count[i] > cur_max :\n",
    "            max_i = i\n",
    "            cur_max = mean_count[i]\n",
    "    \n",
    "    res = []\n",
    "    for i in range(len(clusters)) :\n",
    "        if clusters[i] == max_i :\n",
    "            res.append(p1[i])\n",
    "            \n",
    "    return max_i, res\n",
    "\n",
    "# spymaster gives hint based on word cluster, opponent's words, and assassin\n",
    "def give_hint(pos, neg, restriction=50000):\n",
    "    full_hint = model.most_similar(positive=pos, negative=neg, restrict_vocab=restriction)\n",
    "    index = 0\n",
    "    for i, word in enumerate(board):\n",
    "        if full_hint[index][0] in word or word in full_hint[index][0]:\n",
    "            index += 1\n",
    "            i = 0\n",
    "    \n",
    "    print full_hint\n",
    "    return full_hint[index][0]\n",
    "\n",
    "# evalutes hints for similarities to team's words\n",
    "def hint_evaluator(remaining, hint, cluster) :\n",
    "    \n",
    "    similarities = []\n",
    "    for word in remaining:\n",
    "        prob = model.similarity(hint, word)\n",
    "        similarities.append((word, prob))\n",
    "    \n",
    "    sort_by_similarity = sorted(similarities, key=lambda tup: tup[1], reverse=True)\n",
    "    print sort_by_similarity\n",
    "    res = 0\n",
    "    for i in range(len(remaining)) :\n",
    "        if sort_by_similarity[i][1] > -0.15 :\n",
    "            res += 1\n",
    "        \n",
    "        if res >= cluster :\n",
    "            break\n",
    "    \n",
    "    return res\n",
    "\n",
    "# guesser agent compares remaining words on board with hint, and returns number of words with highest similarities\n",
    "\n",
    "def guesser(remaining, hint, num=1) :\n",
    "    \n",
    "    potential = []\n",
    "    for word in remaining:\n",
    "        prob = model.similarity(hint, word)\n",
    "        potential.append((word, prob))\n",
    "    \n",
    "    \n",
    "    potential_sorted = sorted(similarities, key=lambda tup: tup[1], reverse=True)\n",
    "    print potential_sorted\n",
    "    return potential_sorted[:num]\n"
   ]
  },
  {
   "cell_type": "code",
   "execution_count": 79,
   "metadata": {},
   "outputs": [
    {
     "name": "stdout",
     "output_type": "stream",
     "text": [
      "['slug', 'fighter', 'bridge', 'mount', 'fish', 'kid', 'train', 'hand', 'organ', 'spell', 'fall', 'log', 'circle', 'alps', 'theater', 'band', 'pistol', 'belt', 'ivory', 'needle', 'eye', 'queen', 'princess', 'jam', 'straw']\n",
      "['slug', 'fighter', 'bridge', 'mount', 'fish', 'kid', 'train', 'hand', 'organ']\n"
     ]
    }
   ],
   "source": [
    "\n",
    "board, p1, p2, neu, assassin, p1_vecs, p2_vecs, assassin_vec = new_game(words)\n",
    "\n",
    "print board\n",
    "print p1\n"
   ]
  },
  {
   "cell_type": "code",
   "execution_count": 91,
   "metadata": {
    "scrolled": true
   },
   "outputs": [
    {
     "name": "stdout",
     "output_type": "stream",
     "text": [
      "['fighter', 'bridge', 'mount', 'train', 'hand']\n",
      "[(u'fight', 0.7024397850036621), (u'side', 0.671573281288147), (u'line', 0.6638650894165039), (u'rail', 0.662460446357727), (u'front', 0.6617729067802429), (u'track', 0.6613149642944336), (u'arm', 0.6573289632797241), (u'cross', 0.656491219997406), (u'stand', 0.6488231420516968), (u'ride', 0.6488006711006165)]\n",
      "[('hand', 0.6154748), ('bridge', 0.5159085), ('mount', 0.4470508), ('fighter', 0.4288491), ('train', 0.4282023), ('kid', 0.42795393), ('organ', 0.40907878), ('fish', 0.38816056), ('slug', 0.33594292)]\n",
      "side 5\n",
      "[('snow', -0.063674614), ('amazon', -0.08624632), ('straw', -0.0966843), ('skyscraper', -0.10037614), ('box', -0.10054034), ('bow', -0.10403543), ('antarctica', -0.10538095), ('lion', -0.10602068), ('circle', -0.12720782), ('lap', -0.13806799), ('theater', -0.13883588), ('suit', -0.14129522), ('grace', -0.1471586), ('shop', -0.15453707), ('space', -0.16008547), ('smuggler', -0.16231768), ('club', -0.17516343), ('hand', -0.18100272), ('nurse', -0.18519782), ('concert', -0.18650693), ('temple', -0.18788347), ('robot', -0.19743189), ('screen', -0.2050154), ('face', -0.23922017), ('time', -0.24287704)]\n",
      "[('snow', -0.063674614), ('amazon', -0.08624632), ('straw', -0.0966843), ('skyscraper', -0.10037614), ('box', -0.10054034)]\n"
     ]
    }
   ],
   "source": [
    "clusters, mean_count, mean_of_cluster = clustering(p1_vecs, n=5)\n",
    "\n",
    "num, largest = largest_cluster(clusters, mean_count)\n",
    "print largest\n",
    "# hint = give_hint(largest, [p2+assassin], restriction=20000)\n",
    "hint = give_hint(largest, [], restriction=20000)\n",
    "num_words = hint_evaluator(p1, hint, len(largest))\n",
    "print hint, num_words\n",
    "print guesser(board, hint, num_words)\n"
   ]
  },
  {
   "cell_type": "code",
   "execution_count": 51,
   "metadata": {},
   "outputs": [
    {
     "name": "stdout",
     "output_type": "stream",
     "text": [
      "(1, ['alien', 'key', 'europe', 'alps', 'pound'])\n"
     ]
    }
   ],
   "source": [
    "# other choice: find largest count\n",
    "\n",
    "\n",
    "combined = [0, trial1[0], trial2[0], trial3[0]]\n",
    "\n",
    "words1 = largest_cluster(trial1[0], trial1[1])\n",
    "words2 = largest_cluster(trial2[0], trial2[1])\n",
    "\n",
    "print words1"
   ]
  },
  {
   "cell_type": "code",
   "execution_count": 23,
   "metadata": {},
   "outputs": [],
   "source": [
    "full_hint = model.most_similar(\n",
    "    positive=words1[1],\n",
    "    negative=p2 + [assassin],\n",
    "    restrict_vocab=50000\n",
    ")"
   ]
  },
  {
   "cell_type": "code",
   "execution_count": 22,
   "metadata": {},
   "outputs": [
    {
     "name": "stdout",
     "output_type": "stream",
     "text": [
      "В\n"
     ]
    }
   ],
   "source": [
    "index = 0\n",
    "all_checked = False\n",
    "for i, word in enumerate(board):\n",
    "#         print word\n",
    "#         print full_hint[index][0]\n",
    "    if full_hint[index][0] in word or word in full_hint[index][0]:\n",
    "        index += 1\n",
    "        i = 0\n",
    "    \n",
    "hint = full_hint[index][0]\n",
    "print hint"
   ]
  },
  {
   "cell_type": "code",
   "execution_count": 13,
   "metadata": {},
   "outputs": [
    {
     "name": "stdout",
     "output_type": "stream",
     "text": [
      "theater\n"
     ]
    }
   ],
   "source": [
    "print assassin"
   ]
  },
  {
   "cell_type": "code",
   "execution_count": 24,
   "metadata": {},
   "outputs": [
    {
     "name": "stdout",
     "output_type": "stream",
     "text": [
      "[('snow', -0.063674614), ('amazon', -0.08624632), ('straw', -0.0966843), ('skyscraper', -0.10037614), ('box', -0.10054034)]\n"
     ]
    }
   ],
   "source": [
    "similarities = []\n",
    "for word in board:\n",
    "    prob = model.similarity(hint, word)\n",
    "    similarities.append((word, prob))\n",
    "    \n",
    "sort_by_similarity = sorted(similarities, key=lambda tup: tup[1], reverse=True)\n",
    "\n",
    "res = 0\n",
    "for i in range(len(words1[1])) :\n",
    "    if sort_by_similarity[i][1] > 0.2 :\n",
    "        res += 1\n",
    "        \n",
    "\n",
    "print sort_by_similarity[:len(words1[1])]"
   ]
  },
  {
   "cell_type": "code",
   "execution_count": 26,
   "metadata": {},
   "outputs": [
    {
     "name": "stdout",
     "output_type": "stream",
     "text": [
      "(1, ['space', 'grace', 'smuggler', 'time', 'temple'])\n"
     ]
    }
   ],
   "source": [
    "print words1"
   ]
  },
  {
   "cell_type": "code",
   "execution_count": null,
   "metadata": {},
   "outputs": [],
   "source": []
  }
 ],
 "metadata": {
  "kernelspec": {
   "display_name": "Python 2",
   "language": "python",
   "name": "python2"
  },
  "language_info": {
   "codemirror_mode": {
    "name": "ipython",
    "version": 2
   },
   "file_extension": ".py",
   "mimetype": "text/x-python",
   "name": "python",
   "nbconvert_exporter": "python",
   "pygments_lexer": "ipython2",
   "version": "2.7.15"
  }
 },
 "nbformat": 4,
 "nbformat_minor": 2
}
