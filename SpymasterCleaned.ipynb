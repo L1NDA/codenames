{
 "cells": [
  {
   "cell_type": "code",
   "execution_count": 1,
   "metadata": {},
   "outputs": [],
   "source": [
    "import numpy as np\n",
    "import random\n",
    "import gensim\n",
    "from nltk.corpus import words\n",
    "from functools import reduce\n",
    "import heapq\n",
    "import os\n",
    "import collections\n",
    "from sklearn.cluster import KMeans\n",
    "from sklearn import metrics"
   ]
  },
  {
   "cell_type": "code",
   "execution_count": 2,
   "metadata": {},
   "outputs": [],
   "source": [
    "model = gensim.models.KeyedVectors.load_word2vec_format('glove.6B.300d.w2vformat.txt', binary=False)"
   ]
  },
  {
   "cell_type": "code",
   "execution_count": 7,
   "metadata": {},
   "outputs": [],
   "source": [
    "\n",
    "words_upper = [\"Hollywood\", \"Well\", \"Foot\", \"NewYork\", \"Spring\", \"Court\", \"Tube\", \"Point\", \"Tablet\", \"Slip\", \"Date\", \"Drill\", \"Lemon\", \"Bell\", \"Screen\", \"Fair\", \"Torch\", \"State\", \"Match\", \"Iron\", \"Block\", \"France\", \"Australia\", \"Limousine\", \"Stream\", \"Glove\", \"Nurse\", \"Leprechaun\", \"Play\", \"Tooth\", \"Arm\", \"Bermuda\", \"Diamond\", \"Whale\", \"Comic\", \"Mammoth\", \"Green\", \"Pass\", \"Missile\", \"Paste\", \"Drop\", \"Pheonix\", \"Marble\", \"Staff\", \"Figure\", \"Park\", \"Centaur\", \"Shadow\", \"Fish\", \"Cotton\", \"Egypt\", \"Theater\", \"Scale\", \"Fall\", \"Track\", \"Force\", \"Dinosaur\", \"Bill\", \"Mine\", \"Turkey\", \"March\", \"Contract\", \"Bridge\", \"Robin\", \"Line\", \"Plate\", \"Band\", \"Fire\", \"Bank\", \"Boom\", \"Cat\", \"Shot\", \"Suit\", \"Chocolate\", \"Roulette\", \"Mercury\", \"Moon\", \"Net\", \"Lawyer\", \"Satellite\", \"Angel\", \"Spider\", \"Germany\", \"Fork\", \"Pitch\", \"King\", \"Crane\", \"Trip\", \"Dog\", \"Conductor\", \"Part\", \"Bugle\", \"Witch\", \"Ketchup\", \"Press\", \"Spine\", \"Worm\", \"Alps\", \"Bond\", \"Pan\", \"Beijing\", \"Racket\", \"Cross\", \"Seal\", \"Aztec\", \"Maple\", \"Parachute\", \"Hotel\", \"Berry\", \"Soldier\", \"Ray\", \"Post\", \"Greece\", \"Square\", \"Mass\", \"Bat\", \"Wave\", \"Car\", \"Smuggler\", \"England\", \"Crash\", \"Tail\", \"Card\", \"Horn\", \"Capital\", \"Fence\", \"Deck\", \"Buffalo\", \"Microscope\", \"Jet\", \"Duck\", \"Ring\", \"Train\", \"Field\", \"Gold\", \"Tick\", \"Check\", \"Queen\", \"Strike\", \"Kangaroo\", \"Spike\", \"Scientist\", \"Engine\", \"Shakespeare\", \"Wind\", \"Kid\", \"Embassy\", \"Robot\", \"Note\", \"Ground\", \"Draft\", \"Ham\", \"War\", \"Mouse\", \"Center\", \"China\", \"Bolt\", \"Spot\", \"Piano\", \"Pupil\", \"Plot\", \"Lion\", \"Police\", \"Head\", \"Litter\", \"Concert\", \"Mug\", \"Vacuum\", \"Atlantis\", \"Straw\", \"Switch\", \"Skyscraper\", \"Laser\", \"Scuba Diver\", \"Africa\", \"Plastic\", \"Dwarf\", \"Lap\", \"Life\", \"Honey\", \"Horseshoe\", \"Unicorn\", \"Spy\", \"Pants\", \"Wall\", \"Paper\", \"Sound\", \"Ice\", \"Tag\", \"Web\", \"Fan\", \"Orange\", \"Temple\", \"Canada\", \"Scorpion\", \"Undertaker\", \"Mail\", \"Europe\", \"Soul\", \"Apple\", \"Pole\", \"Tap\", \"Mouth\", \"Ambulance\", \"Dress\", \"IceCream\", \"Rabbit\", \"Buck\", \"Agent\", \"Sock\", \"Nut\", \"Boot\", \"Ghost\", \"Oil\", \"Superhero\", \"Code\", \"Kiwi\", \"Hospital\", \"Saturn\", \"Film\", \"Button\", \"Snowman\", \"Helicopter\", \"Log\", \"Princess\", \"Time\", \"Cook\", \"Revolution\", \"Shoe\", \"Mole\", \"Spell\", \"Grass\", \"Washer\", \"Game\", \"Beat\", \"Hole\", \"Horse\", \"Pirate\", \"Link\", \"Dance\", \"Fly\", \"Pit\", \"Server\", \"School\", \"Lock\", \"Brush\", \"Pool\", \"Star\", \"Jam\", \"Organ\", \"Berlin\", \"Face\", \"Luck\", \"Amazon\", \"Cast\", \"Gas\", \"Club\", \"Sink\", \"Water\", \"Chair\", \"Shark\", \"Jupiter\", \"Copper\", \"Jack\", \"Platypus\", \"Stick\", \"Olive\", \"Grace\", \"Bear\", \"Glass\", \"Row\", \"Pistol\", \"London\", \"Rock\", \"Van\", \"Vet\", \"Beach\", \"Charge\", \"Port\", \"Disease\", \"Palm\", \"Moscow\", \"Pin\", \"Washington\", \"Pyramid\", \"Opera\", \"Casino\", \"Pilot\", \"String\", \"Night\", \"Chest\", \"Yard\", \"Teacher\", \"Pumpkin\", \"Thief\", \"Bark\", \"Bug\", \"Mint\", \"Cycle\", \"Telescope\", \"Calf\", \"Air\", \"Box\", \"Mount\", \"Thumb\", \"Antarctica\", \"Trunk\", \"Snow\", \"Penguin\", \"Root\", \"Bar\", \"File\", \"Hawk\", \"Battery\", \"Compound\", \"Slug\", \"Octopus\", \"Whip\", \"America\", \"Ivory\", \"Pound\", \"Sub\", \"Cliff\", \"Lab\", \"Eagle\", \"Genius\", \"Ship\", \"Dice\", \"Hood\", \"Heart\", \"Novel\", \"Pipe\", \"Himalayas\", \"Crown\", \"Round\", \"India\", \"Needle\", \"Shop\", \"Watch\", \"Lead\", \"Tie\", \"Table\", \"Cell\", \"Cover\", \"Czech\", \"Back\", \"Bomb\", \"Ruler\", \"Forest\", \"Bottle\", \"Space\", \"Hook\", \"Doctor\", \"Ball\", \"Bow\", \"Degree\", \"Rome\", \"Plane\", \"Giant\", \"Nail\", \"Dragon\", \"Stadium\", \"Flute\", \"Carrot\", \"Wake\", \"Fighter\", \"Model\", \"Tokyo\", \"Eye\", \"Mexico\", \"Hand\", \"Swing\", \"Key\", \"Alien\", \"Tower\", \"Poison\", \"Cricket\", \"Cold\", \"Knife\", \"Church\", \"Board\", \"Cloak\", \"Ninja\", \"Olympus\", \"Belt\", \"Light\", \"Death\", \"Stock\", \"Millionaire\", \"Day\", \"Knight\", \"Pie\", \"Bed\", \"Circle\", \"Rose\", \"Change\", \"Cap\", \"Triangle\", \"Chick\"]\n",
    "words = [x.lower() for x in words_upper]\n",
    "for word in words :\n",
    "    if ' ' in word :\n",
    "        words.remove(word)\n",
    "\n",
    "\n",
    "# generate new board\n",
    "def new_game(words) :\n",
    "    board = random.sample(words, 25)\n",
    "\n",
    "    p1 = board[:9]\n",
    "    p2 = board[9:17]\n",
    "    neu = board[17:24]\n",
    "    assassin = [board[24]]\n",
    "    p1_vecs = model[p1]\n",
    "    p2_vecs = model[p2]\n",
    "    assassin_vec = model[assassin]\n",
    "    \n",
    "    return board, p1, p2, neu, assassin, p1_vecs, p2_vecs, assassin_vec\n",
    "    \n",
    "# https://stackoverflow.com/questions/40828929/sklearn-mean-distance-from-centroid-of-each-cluster\n",
    "\n",
    "def clustering(vecs, n=5) :\n",
    "    initial = KMeans(n_clusters=n)\n",
    "    clusters = initial.fit_predict(vecs)\n",
    "    centroids = initial.cluster_centers_\n",
    "    \n",
    "    # finding cluster size and tightness\n",
    "    mean_dists = {}\n",
    "    mean_count = {}\n",
    "    for i in range(n):\n",
    "        mean_dists[i] = 0\n",
    "        mean_count[i] = 0\n",
    "    \n",
    "    for i in range(len(vecs)) :\n",
    "        cluster = clusters[i]\n",
    "        centroid = centroids[cluster]\n",
    "        dist = np.linalg.norm(centroid-p1_vecs[i])\n",
    "        mean_dists[cluster] += dist\n",
    "        mean_count[cluster] += 1\n",
    "    \n",
    "    mean_of_cluster = []\n",
    "    for i in range(n):\n",
    "        mean_of_cluster.append(mean_dists[i]/mean_count[i])\n",
    "    \n",
    "    return clusters, mean_count, mean_of_cluster\n",
    "\n",
    "# finding largest cluster from list of clusters\n",
    "def largest_cluster(clusters, mean_count, player) :\n",
    "    cur_max = mean_count[0]\n",
    "    max_i = 0\n",
    "    for i in range(len(mean_count)):\n",
    "        if mean_count[i] > cur_max :\n",
    "            max_i = i\n",
    "            cur_max = mean_count[i]\n",
    "    \n",
    "    res = []\n",
    "    \n",
    "    for i in range(len(clusters)) :\n",
    "        if clusters[i] == max_i :\n",
    "            res.append(player[i])\n",
    "            \n",
    "    return max_i, res\n",
    "\n",
    "# spymaster gives hint based on word cluster, opponent's words, and assassin\n",
    "def give_hint(pos, neg, restriction=50000):\n",
    "    full_hint = model.most_similar(positive=pos, negative=neg, restrict_vocab=restriction)\n",
    "    index = 0\n",
    "    for i, word in enumerate(board):\n",
    "        if full_hint[index][0] in word or word in full_hint[index][0]:\n",
    "            index += 1\n",
    "            i = 0\n",
    "    top_5_hints = []\n",
    "    for i in range(5) :\n",
    "        top_5_hints.append(full_hint[i][0])\n",
    "        \n",
    "    print \"top 5 hints: \" + str(top_5_hints)\n",
    "    return full_hint[index][0]\n",
    "\n",
    "# evalutes hints for similarities to team's words\n",
    "def hint_evaluator(remaining, hint, cluster) :\n",
    "    \n",
    "    similarities = []\n",
    "    for word in remaining:\n",
    "        prob = model.similarity(hint, word)\n",
    "        similarities.append((word, prob))\n",
    "    \n",
    "    sort_by_similarity = sorted(similarities, key=lambda tup: tup[1], reverse=True)\n",
    "    #print sort_by_similarity\n",
    "    res = 0\n",
    "    for i in range(len(remaining)) :\n",
    "        if sort_by_similarity[i][1] > 0.1 :\n",
    "            res += 1\n",
    "        \n",
    "        if res >= cluster :\n",
    "            break\n",
    "    \n",
    "    return res\n",
    "\n",
    "# guesser agent compares remaining words on board with hint, and returns number of words with highest similarities\n",
    "\n",
    "def guesser(remaining, hint, num=1) :\n",
    "    \n",
    "    potential = []\n",
    "    for word in remaining:\n",
    "        prob = model.similarity(hint, word)\n",
    "        potential.append((word, prob))\n",
    "    \n",
    "    \n",
    "    potential_sorted = sorted(potential, key=lambda tup: tup[1], reverse=True)\n",
    "    #print potential_sorted\n",
    "    return potential_sorted[:num]\n",
    "\n",
    "# def game_turn(player, player_vecs)"
   ]
  },
  {
   "cell_type": "code",
   "execution_count": 8,
   "metadata": {
    "scrolled": true
   },
   "outputs": [
    {
     "name": "stdout",
     "output_type": "stream",
     "text": [
      "board: ['moscow', 'cloak', 'sink', 'war', 'newyork', 'snow', 'chick', 'drop', 'watch', 'diamond', 'shoe', 'screen', 'star', 'turkey', 'lead', 'cricket', 'honey', 'police', 'paper', 'beach', 'bar', 'scorpion', 'teacher', 'piano', 'helicopter']\n",
      "p1 words: ['moscow', 'cloak', 'sink', 'war', 'newyork', 'snow', 'chick', 'drop', 'watch']\n",
      " \n",
      "turn 0, player1\n",
      "largest cluster: ['cloak', 'sink', 'war', 'snow', 'drop', 'watch']\n",
      "top 5 hints: [u'even', u'put', u'could', u\"n't\", u'turn']\n",
      "hint, number: even, 6\n",
      "guesser: [('drop', 0.4772554), ('war', 0.43765286), ('lead', 0.4128928), ('watch', 0.41037652), ('screen', 0.37127396), ('star', 0.34458378)]\n",
      " \n",
      "turn 1, player2\n",
      "largest cluster: ['diamond', 'shoe', 'screen', 'star']\n",
      "top 5 hints: [u'stars', u'golden', u'movie', u'hollywood', u'shoes']\n",
      "hint, number: golden, 4\n",
      "guesser: [('star', 0.40855086), ('diamond', 0.34640107), ('screen', 0.29642075), ('shoe', 0.24429713)]\n",
      " \n",
      "turn 2, player1\n",
      "largest cluster: ['cloak', 'sink', 'snow', 'chick', 'watch']\n",
      "top 5 hints: [u'you', u'cool', u'look', u'stuff', u'?']\n",
      "hint, number: you, 5\n",
      "guesser: [('watch', 0.5083667), ('paper', 0.30857098), ('sink', 0.3000691), ('bar', 0.29307258), ('honey', 0.26864365)]\n",
      " \n",
      "turn 3, player2\n",
      "largest cluster: ['turkey', 'cricket']\n",
      "top 5 hints: [u'matches', u'twenty20', u'rugby', u'football', u'match']\n",
      "hint, number: matches, 2\n",
      "guesser: [('cricket', 0.57077706), ('turkey', 0.18164743)]\n",
      " \n",
      "turn 4, player1\n",
      "largest cluster: ['moscow', 'cloak', 'snow', 'chick']\n",
      "top 5 hints: [u'cloaked', u'winter', u'cool', u'robes', u'veil']\n",
      "hint, number: winter, 2\n",
      "guesser: [('snow', 0.53093797), ('moscow', 0.25994018)]\n",
      " \n"
     ]
    },
    {
     "ename": "ValueError",
     "evalue": "need at least one array to concatenate",
     "output_type": "error",
     "traceback": [
      "\u001b[0;31m---------------------------------------------------------------------------\u001b[0m",
      "\u001b[0;31mValueError\u001b[0m                                Traceback (most recent call last)",
      "\u001b[0;32m<ipython-input-8-efc0679df7c1>\u001b[0m in \u001b[0;36m<module>\u001b[0;34m()\u001b[0m\n\u001b[1;32m     22\u001b[0m         \u001b[0;32melse\u001b[0m \u001b[0;34m:\u001b[0m\u001b[0;34m\u001b[0m\u001b[0m\n\u001b[1;32m     23\u001b[0m             \u001b[0mplayer\u001b[0m \u001b[0;34m=\u001b[0m \u001b[0mp2\u001b[0m\u001b[0;34m\u001b[0m\u001b[0m\n\u001b[0;32m---> 24\u001b[0;31m             \u001b[0mplayer_vecs\u001b[0m \u001b[0;34m=\u001b[0m \u001b[0mmodel\u001b[0m\u001b[0;34m[\u001b[0m\u001b[0mp2\u001b[0m\u001b[0;34m]\u001b[0m\u001b[0;34m\u001b[0m\u001b[0m\n\u001b[0m\u001b[1;32m     25\u001b[0m             \u001b[0mn\u001b[0m \u001b[0;34m=\u001b[0m \u001b[0mmax\u001b[0m\u001b[0;34m(\u001b[0m\u001b[0mlen\u001b[0m\u001b[0;34m(\u001b[0m\u001b[0mp2\u001b[0m\u001b[0;34m)\u001b[0m\u001b[0;34m/\u001b[0m\u001b[0;36m2\u001b[0m\u001b[0;34m,\u001b[0m \u001b[0;36m1\u001b[0m\u001b[0;34m)\u001b[0m\u001b[0;34m\u001b[0m\u001b[0m\n\u001b[1;32m     26\u001b[0m \u001b[0;34m\u001b[0m\u001b[0m\n",
      "\u001b[0;32m/Users/Larry/anaconda2/lib/python2.7/site-packages/gensim/models/keyedvectors.pyc\u001b[0m in \u001b[0;36m__getitem__\u001b[0;34m(self, entities)\u001b[0m\n\u001b[1;32m    337\u001b[0m             \u001b[0;32mreturn\u001b[0m \u001b[0mself\u001b[0m\u001b[0;34m.\u001b[0m\u001b[0mget_vector\u001b[0m\u001b[0;34m(\u001b[0m\u001b[0mentities\u001b[0m\u001b[0;34m)\u001b[0m\u001b[0;34m\u001b[0m\u001b[0m\n\u001b[1;32m    338\u001b[0m \u001b[0;34m\u001b[0m\u001b[0m\n\u001b[0;32m--> 339\u001b[0;31m         \u001b[0;32mreturn\u001b[0m \u001b[0mvstack\u001b[0m\u001b[0;34m(\u001b[0m\u001b[0;34m[\u001b[0m\u001b[0mself\u001b[0m\u001b[0;34m.\u001b[0m\u001b[0mget_vector\u001b[0m\u001b[0;34m(\u001b[0m\u001b[0mentity\u001b[0m\u001b[0;34m)\u001b[0m \u001b[0;32mfor\u001b[0m \u001b[0mentity\u001b[0m \u001b[0;32min\u001b[0m \u001b[0mentities\u001b[0m\u001b[0;34m]\u001b[0m\u001b[0;34m)\u001b[0m\u001b[0;34m\u001b[0m\u001b[0m\n\u001b[0m\u001b[1;32m    340\u001b[0m \u001b[0;34m\u001b[0m\u001b[0m\n\u001b[1;32m    341\u001b[0m     \u001b[0;32mdef\u001b[0m \u001b[0m__contains__\u001b[0m\u001b[0;34m(\u001b[0m\u001b[0mself\u001b[0m\u001b[0;34m,\u001b[0m \u001b[0mentity\u001b[0m\u001b[0;34m)\u001b[0m\u001b[0;34m:\u001b[0m\u001b[0;34m\u001b[0m\u001b[0m\n",
      "\u001b[0;32m/Users/Larry/anaconda2/lib/python2.7/site-packages/numpy/core/shape_base.pyc\u001b[0m in \u001b[0;36mvstack\u001b[0;34m(tup)\u001b[0m\n\u001b[1;32m    232\u001b[0m \u001b[0;34m\u001b[0m\u001b[0m\n\u001b[1;32m    233\u001b[0m     \"\"\"\n\u001b[0;32m--> 234\u001b[0;31m     \u001b[0;32mreturn\u001b[0m \u001b[0m_nx\u001b[0m\u001b[0;34m.\u001b[0m\u001b[0mconcatenate\u001b[0m\u001b[0;34m(\u001b[0m\u001b[0;34m[\u001b[0m\u001b[0matleast_2d\u001b[0m\u001b[0;34m(\u001b[0m\u001b[0m_m\u001b[0m\u001b[0;34m)\u001b[0m \u001b[0;32mfor\u001b[0m \u001b[0m_m\u001b[0m \u001b[0;32min\u001b[0m \u001b[0mtup\u001b[0m\u001b[0;34m]\u001b[0m\u001b[0;34m,\u001b[0m \u001b[0;36m0\u001b[0m\u001b[0;34m)\u001b[0m\u001b[0;34m\u001b[0m\u001b[0m\n\u001b[0m\u001b[1;32m    235\u001b[0m \u001b[0;34m\u001b[0m\u001b[0m\n\u001b[1;32m    236\u001b[0m \u001b[0;32mdef\u001b[0m \u001b[0mhstack\u001b[0m\u001b[0;34m(\u001b[0m\u001b[0mtup\u001b[0m\u001b[0;34m)\u001b[0m\u001b[0;34m:\u001b[0m\u001b[0;34m\u001b[0m\u001b[0m\n",
      "\u001b[0;31mValueError\u001b[0m: need at least one array to concatenate"
     ]
    }
   ],
   "source": [
    "\n",
    "success = []\n",
    "num_tries = []\n",
    "guess_ratio = []\n",
    "for x in range(1) :\n",
    "    # create a new game\n",
    "    board, p1, p2, neu, assassin, p1_vecs, p2_vecs, assassin_vec = new_game(words)\n",
    "    print \"board: \" + str(board)\n",
    "    print \"p1 words: \" + str(p1)\n",
    "    print ' '\n",
    "    # print p2\n",
    "    \n",
    "    # keeping track of which team wins\n",
    "    p1_win = False\n",
    "    p2_win = False\n",
    "    k = 0\n",
    "    \n",
    "    # kepping track of # of incorrect guesses\n",
    "    incorrect_guesses = 0\n",
    "    p1_turn = True\n",
    "    while k < 20 :\n",
    "        \n",
    "        # determining which spymaster's turn is it to give a hint\n",
    "        if p1_turn :\n",
    "            player = p1\n",
    "            player_vecs = model[p1]\n",
    "            n = max(len(p1)/2, 1)\n",
    "        else :\n",
    "            player = p2\n",
    "            player_vecs = model[p2]\n",
    "            n = max(len(p2)/2, 1)\n",
    "        \n",
    "        # clustering based on remaining words\n",
    "        clusters, mean_count, mean_of_cluster = clustering(player_vecs, n)\n",
    "        num, largest = largest_cluster(clusters, mean_count, player)\n",
    "        print \"turn \" + str(k) + \", player\" + str(k%2 + 1)\n",
    "        print \"largest cluster: \" + str(largest)\n",
    "        \n",
    "        # giving a hint similar to team's words which is also dissimilar to the assassin word \n",
    "        hint = give_hint(largest, assassin, restriction=50000)\n",
    "        num_words = hint_evaluator(player, hint, len(largest))\n",
    "        \n",
    "        # guesser generates guesses based on hints and number of words\n",
    "        guesses = guesser(board, hint, num_words)\n",
    "        print \"hint, number: \" + hint + \", \" + str(num_words)\n",
    "        print \"guesser: \" + str(guesses)\n",
    "        print ' '\n",
    "        \n",
    "        # checks to see if the assassin is in the guesses, auto-loss if it is\n",
    "        \n",
    "        # guesses words, ending turn if there is a wrong guess\n",
    "        for i in range(len(guesses)) :\n",
    "            if assassin[0] == guesses[i] :\n",
    "                break\n",
    "            if guesses[i][0] in board :\n",
    "                board.remove(guesses[i][0])\n",
    "            if guesses[i][0] in p2 :\n",
    "                p2.remove(guesses[i][0])\n",
    "                if p1_turn :\n",
    "                    incorrect_guesses += 1\n",
    "                    break\n",
    "            elif guesses[i][0] in p1 :\n",
    "                p1.remove(guesses[i][0])\n",
    "                if not p1_turn :\n",
    "                    incorrect_guesses += 1\n",
    "                    break\n",
    "        if not p1:\n",
    "            p1_win = True\n",
    "            break\n",
    "        elif not p2:\n",
    "            p2_win = True\n",
    "            break\n",
    "            \n",
    "        k += 1\n",
    "        p1_turn = not p1_turn\n",
    "    \n",
    "    if p1_win :\n",
    "        success.append(1.)\n",
    "    else :\n",
    "        success.append(0.)\n",
    "        \n",
    "    num_tries.append(k)\n",
    "    guess_ratio.append(incorrect_guesses/float((incorrect_guesses+9)))\n",
    "# print success\n",
    "#print np.mean(success)\n",
    "#print np.mean(num_tries)\n",
    "#print np.mean(guess_ratio)\n"
   ]
  },
  {
   "cell_type": "code",
   "execution_count": 51,
   "metadata": {},
   "outputs": [
    {
     "name": "stdout",
     "output_type": "stream",
     "text": [
      "(1, ['alien', 'key', 'europe', 'alps', 'pound'])\n"
     ]
    }
   ],
   "source": [
    "# other choice: find largest count\n",
    "\n",
    "\n",
    "combined = [0, trial1[0], trial2[0], trial3[0]]\n",
    "\n",
    "words1 = largest_cluster(trial1[0], trial1[1])\n",
    "words2 = largest_cluster(trial2[0], trial2[1])\n",
    "\n",
    "print words1"
   ]
  },
  {
   "cell_type": "code",
   "execution_count": 23,
   "metadata": {},
   "outputs": [],
   "source": [
    "full_hint = model.most_similar(\n",
    "    positive=words1[1],\n",
    "    negative=p2 + [assassin],\n",
    "    restrict_vocab=50000\n",
    ")"
   ]
  },
  {
   "cell_type": "code",
   "execution_count": 22,
   "metadata": {},
   "outputs": [
    {
     "name": "stdout",
     "output_type": "stream",
     "text": [
      "В\n"
     ]
    }
   ],
   "source": [
    "index = 0\n",
    "all_checked = False\n",
    "for i, word in enumerate(board):\n",
    "#         print word\n",
    "#         print full_hint[index][0]\n",
    "    if full_hint[index][0] in word or word in full_hint[index][0]:\n",
    "        index += 1\n",
    "        i = 0\n",
    "    \n",
    "hint = full_hint[index][0]\n",
    "print hint"
   ]
  },
  {
   "cell_type": "code",
   "execution_count": 13,
   "metadata": {},
   "outputs": [
    {
     "name": "stdout",
     "output_type": "stream",
     "text": [
      "theater\n"
     ]
    }
   ],
   "source": [
    "print assassin"
   ]
  },
  {
   "cell_type": "code",
   "execution_count": 24,
   "metadata": {},
   "outputs": [
    {
     "name": "stdout",
     "output_type": "stream",
     "text": [
      "[('snow', -0.063674614), ('amazon', -0.08624632), ('straw', -0.0966843), ('skyscraper', -0.10037614), ('box', -0.10054034)]\n"
     ]
    }
   ],
   "source": [
    "similarities = []\n",
    "for word in board:\n",
    "    prob = model.similarity(hint, word)\n",
    "    similarities.append((word, prob))\n",
    "    \n",
    "sort_by_similarity = sorted(similarities, key=lambda tup: tup[1], reverse=True)\n",
    "\n",
    "res = 0\n",
    "for i in range(len(words1[1])) :\n",
    "    if sort_by_similarity[i][1] > 0.2 :\n",
    "        res += 1\n",
    "        \n",
    "\n",
    "print sort_by_similarity[:len(words1[1])]"
   ]
  },
  {
   "cell_type": "code",
   "execution_count": 26,
   "metadata": {},
   "outputs": [
    {
     "name": "stdout",
     "output_type": "stream",
     "text": [
      "(1, ['space', 'grace', 'smuggler', 'time', 'temple'])\n"
     ]
    }
   ],
   "source": [
    "print words1"
   ]
  },
  {
   "cell_type": "code",
   "execution_count": null,
   "metadata": {},
   "outputs": [],
   "source": []
  }
 ],
 "metadata": {
  "kernelspec": {
   "display_name": "Python 2",
   "language": "python",
   "name": "python2"
  },
  "language_info": {
   "codemirror_mode": {
    "name": "ipython",
    "version": 2
   },
   "file_extension": ".py",
   "mimetype": "text/x-python",
   "name": "python",
   "nbconvert_exporter": "python",
   "pygments_lexer": "ipython2",
   "version": "2.7.15"
  }
 },
 "nbformat": 4,
 "nbformat_minor": 2
}
