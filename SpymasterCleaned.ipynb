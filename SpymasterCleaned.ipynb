{
 "cells": [
  {
   "cell_type": "code",
   "execution_count": 29,
   "metadata": {},
   "outputs": [],
   "source": [
    "import numpy as np\n",
    "import random\n",
    "import gensim\n",
    "from nltk.corpus import words\n",
    "from functools import reduce\n",
    "import heapq\n",
    "import os\n",
    "import collections\n",
    "from sklearn.cluster import KMeans\n",
    "from sklearn import metrics\n",
    "import copy"
   ]
  },
  {
   "cell_type": "code",
   "execution_count": 28,
   "metadata": {},
   "outputs": [],
   "source": [
    "model = gensim.models.KeyedVectors.load_word2vec_format('glove.6B.300d.w2vformat.txt', binary=False)"
   ]
  },
  {
   "cell_type": "code",
   "execution_count": 136,
   "metadata": {},
   "outputs": [],
   "source": [
    "\n",
    "words_upper = [\"Hollywood\", \"Well\", \"Foot\", \"NewYork\", \"Spring\", \"Court\", \"Tube\", \"Point\", \"Tablet\", \"Slip\", \"Date\", \"Drill\", \"Lemon\", \"Bell\", \"Screen\", \"Fair\", \"Torch\", \"State\", \"Match\", \"Iron\", \"Block\", \"France\", \"Australia\", \"Limousine\", \"Stream\", \"Glove\", \"Nurse\", \"Leprechaun\", \"Play\", \"Tooth\", \"Arm\", \"Bermuda\", \"Diamond\", \"Whale\", \"Comic\", \"Mammoth\", \"Green\", \"Pass\", \"Missile\", \"Paste\", \"Drop\", \"Pheonix\", \"Marble\", \"Staff\", \"Figure\", \"Park\", \"Centaur\", \"Shadow\", \"Fish\", \"Cotton\", \"Egypt\", \"Theater\", \"Scale\", \"Fall\", \"Track\", \"Force\", \"Dinosaur\", \"Bill\", \"Mine\", \"Turkey\", \"March\", \"Contract\", \"Bridge\", \"Robin\", \"Line\", \"Plate\", \"Band\", \"Fire\", \"Bank\", \"Boom\", \"Cat\", \"Shot\", \"Suit\", \"Chocolate\", \"Roulette\", \"Mercury\", \"Moon\", \"Net\", \"Lawyer\", \"Satellite\", \"Angel\", \"Spider\", \"Germany\", \"Fork\", \"Pitch\", \"King\", \"Crane\", \"Trip\", \"Dog\", \"Conductor\", \"Part\", \"Bugle\", \"Witch\", \"Ketchup\", \"Press\", \"Spine\", \"Worm\", \"Alps\", \"Bond\", \"Pan\", \"Beijing\", \"Racket\", \"Cross\", \"Seal\", \"Aztec\", \"Maple\", \"Parachute\", \"Hotel\", \"Berry\", \"Soldier\", \"Ray\", \"Post\", \"Greece\", \"Square\", \"Mass\", \"Bat\", \"Wave\", \"Car\", \"Smuggler\", \"England\", \"Crash\", \"Tail\", \"Card\", \"Horn\", \"Capital\", \"Fence\", \"Deck\", \"Buffalo\", \"Microscope\", \"Jet\", \"Duck\", \"Ring\", \"Train\", \"Field\", \"Gold\", \"Tick\", \"Check\", \"Queen\", \"Strike\", \"Kangaroo\", \"Spike\", \"Scientist\", \"Engine\", \"Shakespeare\", \"Wind\", \"Kid\", \"Embassy\", \"Robot\", \"Note\", \"Ground\", \"Draft\", \"Ham\", \"War\", \"Mouse\", \"Center\", \"China\", \"Bolt\", \"Spot\", \"Piano\", \"Pupil\", \"Plot\", \"Lion\", \"Police\", \"Head\", \"Litter\", \"Concert\", \"Mug\", \"Vacuum\", \"Atlantis\", \"Straw\", \"Switch\", \"Skyscraper\", \"Laser\", \"Scuba Diver\", \"Africa\", \"Plastic\", \"Dwarf\", \"Lap\", \"Life\", \"Honey\", \"Horseshoe\", \"Unicorn\", \"Spy\", \"Pants\", \"Wall\", \"Paper\", \"Sound\", \"Ice\", \"Tag\", \"Web\", \"Fan\", \"Orange\", \"Temple\", \"Canada\", \"Scorpion\", \"Undertaker\", \"Mail\", \"Europe\", \"Soul\", \"Apple\", \"Pole\", \"Tap\", \"Mouth\", \"Ambulance\", \"Dress\", \"IceCream\", \"Rabbit\", \"Buck\", \"Agent\", \"Sock\", \"Nut\", \"Boot\", \"Ghost\", \"Oil\", \"Superhero\", \"Code\", \"Kiwi\", \"Hospital\", \"Saturn\", \"Film\", \"Button\", \"Snowman\", \"Helicopter\", \"Log\", \"Princess\", \"Time\", \"Cook\", \"Revolution\", \"Shoe\", \"Mole\", \"Spell\", \"Grass\", \"Washer\", \"Game\", \"Beat\", \"Hole\", \"Horse\", \"Pirate\", \"Link\", \"Dance\", \"Fly\", \"Pit\", \"Server\", \"School\", \"Lock\", \"Brush\", \"Pool\", \"Star\", \"Jam\", \"Organ\", \"Berlin\", \"Face\", \"Luck\", \"Amazon\", \"Cast\", \"Gas\", \"Club\", \"Sink\", \"Water\", \"Chair\", \"Shark\", \"Jupiter\", \"Copper\", \"Jack\", \"Platypus\", \"Stick\", \"Olive\", \"Grace\", \"Bear\", \"Glass\", \"Row\", \"Pistol\", \"London\", \"Rock\", \"Van\", \"Vet\", \"Beach\", \"Charge\", \"Port\", \"Disease\", \"Palm\", \"Moscow\", \"Pin\", \"Washington\", \"Pyramid\", \"Opera\", \"Casino\", \"Pilot\", \"String\", \"Night\", \"Chest\", \"Yard\", \"Teacher\", \"Pumpkin\", \"Thief\", \"Bark\", \"Bug\", \"Mint\", \"Cycle\", \"Telescope\", \"Calf\", \"Air\", \"Box\", \"Mount\", \"Thumb\", \"Antarctica\", \"Trunk\", \"Snow\", \"Penguin\", \"Root\", \"Bar\", \"File\", \"Hawk\", \"Battery\", \"Compound\", \"Slug\", \"Octopus\", \"Whip\", \"America\", \"Ivory\", \"Pound\", \"Sub\", \"Cliff\", \"Lab\", \"Eagle\", \"Genius\", \"Ship\", \"Dice\", \"Hood\", \"Heart\", \"Novel\", \"Pipe\", \"Himalayas\", \"Crown\", \"Round\", \"India\", \"Needle\", \"Shop\", \"Watch\", \"Lead\", \"Tie\", \"Table\", \"Cell\", \"Cover\", \"Czech\", \"Back\", \"Bomb\", \"Ruler\", \"Forest\", \"Bottle\", \"Space\", \"Hook\", \"Doctor\", \"Ball\", \"Bow\", \"Degree\", \"Rome\", \"Plane\", \"Giant\", \"Nail\", \"Dragon\", \"Stadium\", \"Flute\", \"Carrot\", \"Wake\", \"Fighter\", \"Model\", \"Tokyo\", \"Eye\", \"Mexico\", \"Hand\", \"Swing\", \"Key\", \"Alien\", \"Tower\", \"Poison\", \"Cricket\", \"Cold\", \"Knife\", \"Church\", \"Board\", \"Cloak\", \"Ninja\", \"Olympus\", \"Belt\", \"Light\", \"Death\", \"Stock\", \"Millionaire\", \"Day\", \"Knight\", \"Pie\", \"Bed\", \"Circle\", \"Rose\", \"Change\", \"Cap\", \"Triangle\", \"Chick\"]\n",
    "words = [x.lower() for x in words_upper]\n",
    "for word in words :\n",
    "    if ' ' in word :\n",
    "        words.remove(word)\n",
    "\n",
    "\n",
    "# generate new board\n",
    "def new_game(words) :\n",
    "    board = random.sample(words, 25)\n",
    "\n",
    "    p1 = board[:9]\n",
    "    p2 = board[9:17]\n",
    "    neu = board[17:24]\n",
    "    assassin = [board[24]]\n",
    "    p1_vecs = model[p1]\n",
    "    p2_vecs = model[p2]\n",
    "    assassin_vec = model[assassin]\n",
    "    \n",
    "    return board, p1, p2, neu, assassin, p1_vecs, p2_vecs, assassin_vec\n",
    "    \n",
    "# https://stackoverflow.com/questions/40828929/sklearn-mean-distance-from-centroid-of-each-cluster\n",
    "\n",
    "def clustering(vecs, n=5) :\n",
    "    initial = KMeans(n_clusters=n)\n",
    "    clusters = initial.fit_predict(vecs)\n",
    "    centroids = initial.cluster_centers_\n",
    "    \n",
    "    # finding cluster size and tightness\n",
    "    mean_dists = {}\n",
    "    mean_count = {}\n",
    "    for i in range(n):\n",
    "        mean_dists[i] = 0\n",
    "        mean_count[i] = 0\n",
    "    \n",
    "    for i in range(len(vecs)) :\n",
    "        cluster = clusters[i]\n",
    "        centroid = centroids[cluster]\n",
    "        dist = np.linalg.norm(centroid-p1_vecs[i])\n",
    "        mean_dists[cluster] += dist\n",
    "        mean_count[cluster] += 1\n",
    "    \n",
    "    mean_of_cluster = []\n",
    "    for i in range(n):\n",
    "        mean_of_cluster.append(mean_dists[i]/mean_count[i])\n",
    "    \n",
    "    return clusters, mean_count, mean_of_cluster\n",
    "\n",
    "# finding largest cluster from list of clusters\n",
    "def largest_cluster(clusters, mean_count, player) :\n",
    "    cur_max = mean_count[0]\n",
    "    max_i = 0\n",
    "    for i in range(len(mean_count)):\n",
    "        if mean_count[i] > cur_max :\n",
    "            max_i = i\n",
    "            cur_max = mean_count[i]\n",
    "    \n",
    "    res = []\n",
    "    \n",
    "    for i in range(len(clusters)) :\n",
    "        if clusters[i] == max_i :\n",
    "            res.append(player[i])\n",
    "            \n",
    "    return max_i, res\n",
    "\n",
    "# spymaster gives hint based on word cluster, opponent's words, and assassin\n",
    "def give_hint(pos, neg, restriction=50000):\n",
    "    full_hint = model.most_similar(positive=pos, negative=neg, restrict_vocab=restriction)\n",
    "    index = 0\n",
    "    for i, word in enumerate(board):\n",
    "        if full_hint[index][0] in word or word in full_hint[index][0]:\n",
    "            index += 1\n",
    "            i = 0\n",
    "    top_5_hints = []\n",
    "    for i in range(5) :\n",
    "        top_5_hints.append(full_hint[i][0])\n",
    "        \n",
    "    return full_hint[index][0]\n",
    "\n",
    "# evalutes hints for similarities to team's words\n",
    "def hint_evaluator(remaining, hint, cluster) :\n",
    "    \n",
    "    similarities = []\n",
    "    for word in remaining:\n",
    "        prob = model.similarity(hint, word)\n",
    "        similarities.append((word, prob))\n",
    "    \n",
    "    sort_by_similarity = sorted(similarities, key=lambda tup: tup[1], reverse=True)\n",
    "    #print sort_by_similarity\n",
    "    res = 0\n",
    "    for i in range(len(remaining)) :\n",
    "        if sort_by_similarity[i][1] > 0.1 :\n",
    "            res += 1\n",
    "        \n",
    "        if res >= cluster :\n",
    "            break\n",
    "    \n",
    "    return res\n",
    "\n",
    "# guesser agent compares remaining words on board with hint, and returns number of words with highest similarities\n",
    "\n",
    "def guesser(remaining, hint, num=1) :\n",
    "    \n",
    "    potential = []\n",
    "    for word in remaining:\n",
    "        prob = model.similarity(hint, word)\n",
    "        potential.append((word, prob))\n",
    "    \n",
    "    \n",
    "    potential_sorted = sorted(potential, key=lambda tup: tup[1], reverse=True)\n",
    "    #print potential_sorted\n",
    "    return potential_sorted[:num]\n",
    "\n",
    "def new_guesser(player_q, turn, hint) :\n",
    "    new_q = []\n",
    "    if turn :\n",
    "        for item in player_q :\n",
    "            new_prob = item[1] + model.similarity(hint, item[0])\n",
    "            # print new_prob, item[1]\n",
    "            new_q.append((item[0], new_prob))\n",
    "    else :\n",
    "        for item in player_q :\n",
    "            \n",
    "            new_prob = item[1]-model.similarity(hint, item[0])\n",
    "            new_q.append((item[0], new_prob))\n",
    "        \n",
    "    new_q = sorted(new_q, key=lambda tup: tup[1], reverse=True)\n",
    "    \n",
    "    return new_q\n",
    "\n",
    "# Taking a turn\n",
    "def take_turn(board, p1, p2, p1_q, p2_q, turn=True) :\n",
    "    \n",
    "    p2_turn = not turn\n",
    "    for item in p1_q :\n",
    "        if item[0] not in board :\n",
    "            p1_q.remove(item)\n",
    "    \n",
    "    for item in p2_q :\n",
    "        if item[0] not in board :\n",
    "            p2_q.remove(item)\n",
    "    \n",
    "    if turn :\n",
    "        player = p1\n",
    "        player_vecs = model[p1]\n",
    "        n = max(len(p1)/2, 1)\n",
    "    else :\n",
    "        player = p2\n",
    "        player_vecs = model[p2]\n",
    "        n = max(len(p2)/2, 1)\n",
    "        \n",
    "    # clustering based on remaining words\n",
    "    \n",
    "    clusters, mean_count, mean_of_cluster = clustering(player_vecs, n)\n",
    "    num, largest = largest_cluster(clusters, mean_count, player)\n",
    "    # print \"largest cluster: \" + str(largest)\n",
    "    \n",
    "    hint = give_hint(largest, assassin, restriction=50000)\n",
    "    num_words = hint_evaluator(player, hint, len(largest))\n",
    "    \n",
    "#     p1_q = new_guesser(p1_q, turn, hint)\n",
    "#     p2_q = new_guesser(p2_q, p2_turn, hint)\n",
    "    \n",
    "#     if turn :\n",
    "#         guesses = p1_q[:num_words]\n",
    "#     else :\n",
    "#         guesses = p2_q[:num_words]\n",
    "        \n",
    "    guesses = guesser(board, hint, num_words)\n",
    "    \n",
    "#     print \"hint, number: \" + hint + \", \" + str(num_words)\n",
    "#     print \"guesser: \" + str(guesses)\n",
    "#     print ' '\n",
    "    incorrect_guesses = 0\n",
    "    for i in range(len(guesses)) :\n",
    "        if assassin[0] == guesses[i][0] :\n",
    "            break\n",
    "        if guesses[i][0] in board :\n",
    "            board.remove(guesses[i][0])\n",
    "        if guesses[i][0] in p2 :\n",
    "            p2.remove(guesses[i][0])\n",
    "            if turn :\n",
    "                incorrect_guesses += 1\n",
    "                break\n",
    "        elif guesses[i][0] in p1 :\n",
    "            p1.remove(guesses[i][0])\n",
    "            if not turn :\n",
    "                incorrect_guesses += 1\n",
    "                break\n",
    "\n",
    "    if not p1 :\n",
    "        return \"Team 1 wins!\", p1_q, p2_q, incorrect_guesses\n",
    "    elif not p2 :\n",
    "        return \"Team 2 wins!\", p1_q, p2_q, incorrect_guesses\n",
    "    else :\n",
    "        return \"continue\", p1_q, p2_q, incorrect_guesses\n"
   ]
  },
  {
   "cell_type": "code",
   "execution_count": 137,
   "metadata": {
    "scrolled": true
   },
   "outputs": [
    {
     "name": "stdout",
     "output_type": "stream",
     "text": [
      "5.7\n",
      "1.94\n"
     ]
    }
   ],
   "source": [
    "\n",
    "success = []\n",
    "num_turns_to_win = []\n",
    "avg_wrong = []\n",
    "for x in range(100) :\n",
    "    # create a new game\n",
    "    board, p1, p2, neu, assassin, p1_vecs, p2_vecs, assassin_vec = new_game(words)\n",
    "    p1_q = []\n",
    "    p2_q = []\n",
    "    for i in range(25) :\n",
    "        p1_q.append((board[i], 0.0))\n",
    "        p2_q.append((board[i], 0.0))\n",
    "\n",
    "#     print \"board: \" + str(board)\n",
    "#     print \"p1 words: \" + str(p1)\n",
    "#     print ' '\n",
    "    \n",
    "    # kepping track of # of incorrect guesses\n",
    "    incorrect_guesses = 0\n",
    "    \n",
    "    game_end = \"continue\"\n",
    "    turn_number = 0\n",
    "    incorrect_guesses = 0\n",
    "    while turn_number < 20 and game_end == \"continue\" :\n",
    "        # print \"Turn \" + str(turn_number) + \", Player\" + str(turn_number%2 + 1)\n",
    "        game_end, p1_q, p2_q, wrong = take_turn(board, p1, p2, p1_q, p2_q,turn_number%2 + 1)\n",
    "        incorrect_guesses += wrong\n",
    "        turn_number +=1 \n",
    "    \n",
    "    num_turns_to_win.append(turn_number)\n",
    "    avg_wrong.append(incorrect_guesses)\n",
    "    # print game_end\n",
    "\n",
    "# print success\n",
    "#print np.mean(success)\n",
    "print np.mean(num_turns_to_win)\n",
    "print np.mean(avg_wrong)\n"
   ]
  },
  {
   "cell_type": "code",
   "execution_count": 51,
   "metadata": {},
   "outputs": [
    {
     "name": "stdout",
     "output_type": "stream",
     "text": [
      "(1, ['alien', 'key', 'europe', 'alps', 'pound'])\n"
     ]
    }
   ],
   "source": [
    "# other choice: find largest count\n",
    "\n",
    "\n",
    "combined = [0, trial1[0], trial2[0], trial3[0]]\n",
    "\n",
    "words1 = largest_cluster(trial1[0], trial1[1])\n",
    "words2 = largest_cluster(trial2[0], trial2[1])\n",
    "\n",
    "print words1"
   ]
  },
  {
   "cell_type": "code",
   "execution_count": 23,
   "metadata": {},
   "outputs": [],
   "source": [
    "full_hint = model.most_similar(\n",
    "    positive=words1[1],\n",
    "    negative=p2 + [assassin],\n",
    "    restrict_vocab=50000\n",
    ")"
   ]
  },
  {
   "cell_type": "code",
   "execution_count": 22,
   "metadata": {},
   "outputs": [
    {
     "name": "stdout",
     "output_type": "stream",
     "text": [
      "В\n"
     ]
    }
   ],
   "source": [
    "index = 0\n",
    "all_checked = False\n",
    "for i, word in enumerate(board):\n",
    "#         print word\n",
    "#         print full_hint[index][0]\n",
    "    if full_hint[index][0] in word or word in full_hint[index][0]:\n",
    "        index += 1\n",
    "        i = 0\n",
    "    \n",
    "hint = full_hint[index][0]\n",
    "print hint"
   ]
  },
  {
   "cell_type": "code",
   "execution_count": 13,
   "metadata": {},
   "outputs": [
    {
     "name": "stdout",
     "output_type": "stream",
     "text": [
      "theater\n"
     ]
    }
   ],
   "source": [
    "print assassin"
   ]
  },
  {
   "cell_type": "code",
   "execution_count": 24,
   "metadata": {},
   "outputs": [
    {
     "name": "stdout",
     "output_type": "stream",
     "text": [
      "[('snow', -0.063674614), ('amazon', -0.08624632), ('straw', -0.0966843), ('skyscraper', -0.10037614), ('box', -0.10054034)]\n"
     ]
    }
   ],
   "source": [
    "similarities = []\n",
    "for word in board:\n",
    "    prob = model.similarity(hint, word)\n",
    "    similarities.append((word, prob))\n",
    "    \n",
    "sort_by_similarity = sorted(similarities, key=lambda tup: tup[1], reverse=True)\n",
    "\n",
    "res = 0\n",
    "for i in range(len(words1[1])) :\n",
    "    if sort_by_similarity[i][1] > 0.2 :\n",
    "        res += 1\n",
    "        \n",
    "\n",
    "print sort_by_similarity[:len(words1[1])]"
   ]
  },
  {
   "cell_type": "code",
   "execution_count": 26,
   "metadata": {},
   "outputs": [
    {
     "name": "stdout",
     "output_type": "stream",
     "text": [
      "(1, ['space', 'grace', 'smuggler', 'time', 'temple'])\n"
     ]
    }
   ],
   "source": [
    "print words1"
   ]
  },
  {
   "cell_type": "code",
   "execution_count": null,
   "metadata": {},
   "outputs": [],
   "source": []
  }
 ],
 "metadata": {
  "kernelspec": {
   "display_name": "Python 2",
   "language": "python",
   "name": "python2"
  },
  "language_info": {
   "codemirror_mode": {
    "name": "ipython",
    "version": 2
   },
   "file_extension": ".py",
   "mimetype": "text/x-python",
   "name": "python",
   "nbconvert_exporter": "python",
   "pygments_lexer": "ipython2",
   "version": "2.7.15"
  }
 },
 "nbformat": 4,
 "nbformat_minor": 2
}
