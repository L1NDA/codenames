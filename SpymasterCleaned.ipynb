{
 "cells": [
  {
   "cell_type": "code",
   "execution_count": 12,
   "metadata": {},
   "outputs": [],
   "source": [
    "import numpy as np\n",
    "import random\n",
    "import gensim\n",
    "from nltk.corpus import words\n",
    "from functools import reduce\n",
    "import heapq\n",
    "import os\n",
    "import collections\n",
    "from sklearn.cluster import KMeans\n",
    "from sklearn import metrics"
   ]
  },
  {
   "cell_type": "code",
   "execution_count": 4,
   "metadata": {},
   "outputs": [],
   "source": [
    "model = gensim.models.KeyedVectors.load_word2vec_format('glove.6B.300d.w2vformat.txt', binary=False)"
   ]
  },
  {
   "cell_type": "code",
   "execution_count": 116,
   "metadata": {},
   "outputs": [],
   "source": [
    "words_upper = [\"Hollywood\", \"Well\", \"Foot\", \"New York\", \"Spring\", \"Court\", \"Tube\", \"Point\", \"Tablet\", \"Slip\", \"Date\", \"Drill\", \"Lemon\", \"Bell\", \"Screen\", \"Fair\", \"Torch\", \"State\", \"Match\", \"Iron\", \"Block\", \"France\", \"Australia\", \"Limousine\", \"Stream\", \"Glove\", \"Nurse\", \"Leprechaun\", \"Play\", \"Tooth\", \"Arm\", \"Bermuda\", \"Diamond\", \"Whale\", \"Comic\", \"Mammoth\", \"Green\", \"Pass\", \"Missile\", \"Paste\", \"Drop\", \"Pheonix\", \"Marble\", \"Staff\", \"Figure\", \"Park\", \"Centaur\", \"Shadow\", \"Fish\", \"Cotton\", \"Egypt\", \"Theater\", \"Scale\", \"Fall\", \"Track\", \"Force\", \"Dinosaur\", \"Bill\", \"Mine\", \"Turkey\", \"March\", \"Contract\", \"Bridge\", \"Robin\", \"Line\", \"Plate\", \"Band\", \"Fire\", \"Bank\", \"Boom\", \"Cat\", \"Shot\", \"Suit\", \"Chocolate\", \"Roulette\", \"Mercury\", \"Moon\", \"Net\", \"Lawyer\", \"Satellite\", \"Angel\", \"Spider\", \"Germany\", \"Fork\", \"Pitch\", \"King\", \"Crane\", \"Trip\", \"Dog\", \"Conductor\", \"Part\", \"Bugle\", \"Witch\", \"Ketchup\", \"Press\", \"Spine\", \"Worm\", \"Alps\", \"Bond\", \"Pan\", \"Beijing\", \"Racket\", \"Cross\", \"Seal\", \"Aztec\", \"Maple\", \"Parachute\", \"Hotel\", \"Berry\", \"Soldier\", \"Ray\", \"Post\", \"Greece\", \"Square\", \"Mass\", \"Bat\", \"Wave\", \"Car\", \"Smuggler\", \"England\", \"Crash\", \"Tail\", \"Card\", \"Horn\", \"Capital\", \"Fence\", \"Deck\", \"Buffalo\", \"Microscope\", \"Jet\", \"Duck\", \"Ring\", \"Train\", \"Field\", \"Gold\", \"Tick\", \"Check\", \"Queen\", \"Strike\", \"Kangaroo\", \"Spike\", \"Scientist\", \"Engine\", \"Shakespeare\", \"Wind\", \"Kid\", \"Embassy\", \"Robot\", \"Note\", \"Ground\", \"Draft\", \"Ham\", \"War\", \"Mouse\", \"Center\", \"China\", \"Bolt\", \"Spot\", \"Piano\", \"Pupil\", \"Plot\", \"Lion\", \"Police\", \"Head\", \"Litter\", \"Concert\", \"Mug\", \"Vacuum\", \"Atlantis\", \"Straw\", \"Switch\", \"Skyscraper\", \"Laser\", \"Scuba Diver\", \"Africa\", \"Plastic\", \"Dwarf\", \"Lap\", \"Life\", \"Honey\", \"Horseshoe\", \"Unicorn\", \"Spy\", \"Pants\", \"Wall\", \"Paper\", \"Sound\", \"Ice\", \"Tag\", \"Web\", \"Fan\", \"Orange\", \"Temple\", \"Canada\", \"Scorpion\", \"Undertaker\", \"Mail\", \"Europe\", \"Soul\", \"Apple\", \"Pole\", \"Tap\", \"Mouth\", \"Ambulance\", \"Dress\", \"IceCream\", \"Rabbit\", \"Buck\", \"Agent\", \"Sock\", \"Nut\", \"Boot\", \"Ghost\", \"Oil\", \"Superhero\", \"Code\", \"Kiwi\", \"Hospital\", \"Saturn\", \"Film\", \"Button\", \"Snowman\", \"Helicopter\", \"Log\", \"Princess\", \"Time\", \"Cook\", \"Revolution\", \"Shoe\", \"Mole\", \"Spell\", \"Grass\", \"Washer\", \"Game\", \"Beat\", \"Hole\", \"Horse\", \"Pirate\", \"Link\", \"Dance\", \"Fly\", \"Pit\", \"Server\", \"School\", \"Lock\", \"Brush\", \"Pool\", \"Star\", \"Jam\", \"Organ\", \"Berlin\", \"Face\", \"Luck\", \"Amazon\", \"Cast\", \"Gas\", \"Club\", \"Sink\", \"Water\", \"Chair\", \"Shark\", \"Jupiter\", \"Copper\", \"Jack\", \"Platypus\", \"Stick\", \"Olive\", \"Grace\", \"Bear\", \"Glass\", \"Row\", \"Pistol\", \"London\", \"Rock\", \"Van\", \"Vet\", \"Beach\", \"Charge\", \"Port\", \"Disease\", \"Palm\", \"Moscow\", \"Pin\", \"Washington\", \"Pyramid\", \"Opera\", \"Casino\", \"Pilot\", \"String\", \"Night\", \"Chest\", \"Yard\", \"Teacher\", \"Pumpkin\", \"Thief\", \"Bark\", \"Bug\", \"Mint\", \"Cycle\", \"Telescope\", \"Calf\", \"Air\", \"Box\", \"Mount\", \"Thumb\", \"Antarctica\", \"Trunk\", \"Snow\", \"Penguin\", \"Root\", \"Bar\", \"File\", \"Hawk\", \"Battery\", \"Compound\", \"Slug\", \"Octopus\", \"Whip\", \"America\", \"Ivory\", \"Pound\", \"Sub\", \"Cliff\", \"Lab\", \"Eagle\", \"Genius\", \"Ship\", \"Dice\", \"Hood\", \"Heart\", \"Novel\", \"Pipe\", \"Himalayas\", \"Crown\", \"Round\", \"India\", \"Needle\", \"Shop\", \"Watch\", \"Lead\", \"Tie\", \"Table\", \"Cell\", \"Cover\", \"Czech\", \"Back\", \"Bomb\", \"Ruler\", \"Forest\", \"Bottle\", \"Space\", \"Hook\", \"Doctor\", \"Ball\", \"Bow\", \"Degree\", \"Rome\", \"Plane\", \"Giant\", \"Nail\", \"Dragon\", \"Stadium\", \"Flute\", \"Carrot\", \"Wake\", \"Fighter\", \"Model\", \"Tokyo\", \"Eye\", \"Mexico\", \"Hand\", \"Swing\", \"Key\", \"Alien\", \"Tower\", \"Poison\", \"Cricket\", \"Cold\", \"Knife\", \"Church\", \"Board\", \"Cloak\", \"Ninja\", \"Olympus\", \"Belt\", \"Light\", \"Death\", \"Stock\", \"Millionaire\", \"Day\", \"Knight\", \"Pie\", \"Bed\", \"Circle\", \"Rose\", \"Change\", \"Cap\", \"Triangle\", \"Chick\"]\n",
    "words = [x.lower() for x in words_upper]\n",
    "board = random.sample(words, 25)\n",
    "\n",
    "player1 = board[:9]\n",
    "player2 = board[9:17]\n",
    "neutral = board[17:24]\n",
    "assassin = board[24]"
   ]
  },
  {
   "cell_type": "code",
   "execution_count": 117,
   "metadata": {},
   "outputs": [],
   "source": [
    "positives = model[player1]"
   ]
  },
  {
   "cell_type": "code",
   "execution_count": 118,
   "metadata": {},
   "outputs": [
    {
     "name": "stdout",
     "output_type": "stream",
     "text": [
      "[1.5469184688754467e-07, 4.546929359436035, 4.608146667480469, 4.476967493693034, 1.2353920908481086e-07]\n",
      "{0: 1.5469184688754467e-07, 1: 9.09385871887207, 2: 9.216293334960938, 3: 13.430902481079102, 4: 1.2353920908481086e-07}\n",
      "{0: 1, 1: 2, 2: 2, 3: 3, 4: 1}\n",
      "[5.309289773305257, 4.498868227005005, 4.476967493693034, 1.2353920908481086e-07]\n",
      "{0: 15.927869319915771, 1: 8.99773645401001, 2: 13.430902481079102, 3: 1.2353920908481086e-07}\n",
      "{0: 3, 1: 2, 2: 3, 3: 1}\n",
      "[1.7442897615183028e-07, 5.360436248779297, 4.546929359436035, 1.2353920908481086e-07]\n",
      "{0: 1.7442897615183028e-07, 1: 26.802181243896484, 2: 9.09385871887207, 3: 1.2353920908481086e-07}\n",
      "{0: 1, 1: 5, 2: 2, 3: 1}\n"
     ]
    }
   ],
   "source": [
    "# https://stackoverflow.com/questions/40828929/sklearn-mean-distance-from-centroid-of-each-cluster\n",
    "\n",
    "kmeans1 = KMeans(n_clusters=5)\n",
    "clusters1 = kmeans1.fit_predict(positives)\n",
    "centroids1 = kmeans1.cluster_centers_\n",
    "\n",
    "mean_distances1 = {}\n",
    "mean_count1 = {}\n",
    "\n",
    "kmeans2 = KMeans(n_clusters=4)\n",
    "clusters2 = kmeans2.fit_predict(positives)\n",
    "centroids2 = kmeans2.cluster_centers_\n",
    "\n",
    "mean_distances2 = {}\n",
    "mean_count2 = {}\n",
    "\n",
    "kmeans3 = KMeans(n_clusters=4)\n",
    "clusters3 = kmeans3.fit_predict(positives)\n",
    "centroids3 = kmeans3.cluster_centers_\n",
    "\n",
    "mean_distances3 = {}\n",
    "mean_count3 = {}\n",
    "\n",
    "for i in range(5):\n",
    "    mean_distances1[i] = 0\n",
    "    mean_count1[i] = 0\n",
    "\n",
    "for i in range(4):\n",
    "    mean_distances2[i] = 0\n",
    "    mean_count2[i] = 0\n",
    "\n",
    "for i in range(4):\n",
    "    mean_distances3[i] = 0\n",
    "    mean_count3[i] = 0\n",
    "\n",
    "# go through clusters and calculate distance to centroid for each\n",
    "for i in range(9):\n",
    "    cluster1 = clusters1[i]\n",
    "    centroid1 = centroids1[cluster1]\n",
    "    distance1 = np.linalg.norm(centroid1-positives[i])\n",
    "    mean_distances1[cluster1] += distance1\n",
    "    mean_count1[cluster1] += 1\n",
    "    \n",
    "    cluster2 = clusters2[i]\n",
    "    centroid2 = centroids2[cluster2]\n",
    "    distance2 = np.linalg.norm(centroid2-positives[i])\n",
    "    mean_distances2[cluster2] += distance2\n",
    "    mean_count2[cluster2] += 1\n",
    "    \n",
    "    cluster3 = clusters3[i]\n",
    "    centroid3 = centroids3[cluster3]\n",
    "    distance3 = np.linalg.norm(centroid3-positives[i])\n",
    "    mean_distances3[cluster3] += distance3\n",
    "    mean_count3[cluster3] += 1\n",
    "\n",
    "mean_cluster1 = []\n",
    "mean_cluster2 = []\n",
    "mean_cluster3 = []\n",
    "\n",
    "# calculate mean\n",
    "for i in range(5):\n",
    "    mean_cluster1.append(mean_distances1[i]/mean_count1[i])\n",
    "    \n",
    "for i in range(4):\n",
    "    mean_cluster2.append(mean_distances2[i]/mean_count2[i])\n",
    "    \n",
    "for i in range(4):\n",
    "    mean_cluster3.append(mean_distances3[i]/mean_count3[i])\n",
    "    \n",
    "print mean_cluster1\n",
    "print mean_distances1\n",
    "print mean_count1\n",
    "\n",
    "print mean_cluster2\n",
    "print mean_distances2\n",
    "print mean_count2\n",
    "\n",
    "print mean_cluster3\n",
    "print mean_distances3\n",
    "print mean_count3"
   ]
  },
  {
   "cell_type": "code",
   "execution_count": 119,
   "metadata": {},
   "outputs": [
    {
     "name": "stdout",
     "output_type": "stream",
     "text": [
      "5\n",
      "5.360436248779297\n",
      "1\n",
      "3\n",
      "[1 1 3 2 1 1 2 1 0]\n",
      "['hospital', 'fall', 'theater', 'box', 'thumb']\n"
     ]
    }
   ],
   "source": [
    "# other choice: find largest count\n",
    "\n",
    "combined = [0, clusters1, clusters2, clusters3]\n",
    "\n",
    "largest_count = 0\n",
    "count_value = 0\n",
    "count_index = 0\n",
    "trial = 0\n",
    "\n",
    "for index in range(5):\n",
    "    if mean_count1[index] > largest_count:\n",
    "        largest_count = mean_count1[index]\n",
    "        count_value = mean_cluster1[index]\n",
    "        count_index = index\n",
    "        trial = 1\n",
    "    if mean_count1[index] == largest_count:\n",
    "        if mean_cluster1[index] < count_value:\n",
    "            count_index = index\n",
    "            count_value = mean_cluster1[index]\n",
    "            trial = 1\n",
    "        \n",
    "for index in range(4):\n",
    "    if mean_count2[index] > largest_count:\n",
    "        largest_count = mean_count2[index]\n",
    "        count_value = mean_cluster2[index]\n",
    "        count_index = index\n",
    "        trial = 2\n",
    "    if mean_count2[index] == largest_count:\n",
    "        if mean_cluster2[index] < count_value:\n",
    "            count_index = index\n",
    "            count_value = mean_cluster2[index]\n",
    "            trial = 2\n",
    "            \n",
    "    if mean_count3[index] > largest_count:\n",
    "        largest_count = mean_count3[index]\n",
    "        count_value = mean_cluster3[index]\n",
    "        count_index = index\n",
    "        trial = 3\n",
    "    if mean_count3[index] == largest_count:\n",
    "        if mean_cluster3[index] < count_value:\n",
    "            count_index = index\n",
    "            count_value = mean_cluster3[index]\n",
    "            trial = 3\n",
    "\n",
    "print largest_count\n",
    "print count_value\n",
    "print count_index\n",
    "print trial\n",
    "\n",
    "words = []\n",
    "print combined[trial]\n",
    "indices = [i for i, e in enumerate(combined[trial]) if e == count_index]\n",
    "for i in indices:\n",
    "    words.append(player1[i])\n",
    "    \n",
    "print words"
   ]
  },
  {
   "cell_type": "code",
   "execution_count": 120,
   "metadata": {},
   "outputs": [],
   "source": [
    "full_hint = model.most_similar(\n",
    "    positive=words,\n",
    "    negative=player2 + [assassin],\n",
    "    restrict_vocab=50000\n",
    ")"
   ]
  },
  {
   "cell_type": "code",
   "execution_count": 121,
   "metadata": {},
   "outputs": [
    {
     "name": "stdout",
     "output_type": "stream",
     "text": [
      "anemic\n"
     ]
    }
   ],
   "source": [
    "index = 0\n",
    "all_checked = False\n",
    "\n",
    "for i, word in enumerate(board):\n",
    "#         print word\n",
    "#         print full_hint[index][0]\n",
    "    if full_hint[index][0] in word or word in full_hint[index][0]:\n",
    "        index += 1\n",
    "        i = 0\n",
    "    \n",
    "hint = full_hint[index][0]\n",
    "print hint"
   ]
  },
  {
   "cell_type": "code",
   "execution_count": 122,
   "metadata": {},
   "outputs": [
    {
     "name": "stdout",
     "output_type": "stream",
     "text": [
      "scientist\n"
     ]
    }
   ],
   "source": [
    "print assassin"
   ]
  },
  {
   "cell_type": "code",
   "execution_count": 123,
   "metadata": {},
   "outputs": [
    {
     "name": "stdout",
     "output_type": "stream",
     "text": [
      "[('fall', 0.13758352), ('ketchup', 0.089986965), ('thumb', 0.057153333), ('box', 0.042899765), ('germany', 0.029806081)]\n"
     ]
    }
   ],
   "source": [
    "similarities = []\n",
    "for word in board:\n",
    "    prob = model.similarity(hint, word)\n",
    "    similarities.append((word, prob))\n",
    "    \n",
    "sort_by_similarity = sorted(similarities, key=lambda tup: tup[1], reverse=True)\n",
    "print sort_by_similarity[:largest_count]"
   ]
  },
  {
   "cell_type": "code",
   "execution_count": 124,
   "metadata": {},
   "outputs": [
    {
     "name": "stdout",
     "output_type": "stream",
     "text": [
      "['hospital', 'fall', 'theater', 'box', 'thumb']\n"
     ]
    }
   ],
   "source": [
    "print words"
   ]
  },
  {
   "cell_type": "code",
   "execution_count": null,
   "metadata": {},
   "outputs": [],
   "source": []
  }
 ],
 "metadata": {
  "kernelspec": {
   "display_name": "Python 2",
   "language": "python",
   "name": "python2"
  },
  "language_info": {
   "codemirror_mode": {
    "name": "ipython",
    "version": 2
   },
   "file_extension": ".py",
   "mimetype": "text/x-python",
   "name": "python",
   "nbconvert_exporter": "python",
   "pygments_lexer": "ipython2",
   "version": "2.7.15"
  }
 },
 "nbformat": 4,
 "nbformat_minor": 2
}
