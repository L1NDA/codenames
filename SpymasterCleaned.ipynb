{
 "cells": [
  {
   "cell_type": "code",
   "execution_count": 4,
   "metadata": {},
   "outputs": [],
   "source": [
    "import numpy as np\n",
    "import random\n",
    "import gensim\n",
    "from nltk.corpus import words\n",
    "from functools import reduce\n",
    "import heapq\n",
    "import os\n",
    "import collections\n",
    "from sklearn.cluster import KMeans\n",
    "from sklearn import metrics"
   ]
  },
  {
   "cell_type": "code",
   "execution_count": 10,
   "metadata": {},
   "outputs": [],
   "source": [
    "model = gensim.models.KeyedVectors.load_word2vec_format('glove.6B.300d.w2vformat.txt', binary=False)"
   ]
  },
  {
   "cell_type": "code",
   "execution_count": 143,
   "metadata": {},
   "outputs": [],
   "source": [
    "\n",
    "words_upper = [\"Hollywood\", \"Well\", \"Foot\", \"New York\", \"Spring\", \"Court\", \"Tube\", \"Point\", \"Tablet\", \"Slip\", \"Date\", \"Drill\", \"Lemon\", \"Bell\", \"Screen\", \"Fair\", \"Torch\", \"State\", \"Match\", \"Iron\", \"Block\", \"France\", \"Australia\", \"Limousine\", \"Stream\", \"Glove\", \"Nurse\", \"Leprechaun\", \"Play\", \"Tooth\", \"Arm\", \"Bermuda\", \"Diamond\", \"Whale\", \"Comic\", \"Mammoth\", \"Green\", \"Pass\", \"Missile\", \"Paste\", \"Drop\", \"Pheonix\", \"Marble\", \"Staff\", \"Figure\", \"Park\", \"Centaur\", \"Shadow\", \"Fish\", \"Cotton\", \"Egypt\", \"Theater\", \"Scale\", \"Fall\", \"Track\", \"Force\", \"Dinosaur\", \"Bill\", \"Mine\", \"Turkey\", \"March\", \"Contract\", \"Bridge\", \"Robin\", \"Line\", \"Plate\", \"Band\", \"Fire\", \"Bank\", \"Boom\", \"Cat\", \"Shot\", \"Suit\", \"Chocolate\", \"Roulette\", \"Mercury\", \"Moon\", \"Net\", \"Lawyer\", \"Satellite\", \"Angel\", \"Spider\", \"Germany\", \"Fork\", \"Pitch\", \"King\", \"Crane\", \"Trip\", \"Dog\", \"Conductor\", \"Part\", \"Bugle\", \"Witch\", \"Ketchup\", \"Press\", \"Spine\", \"Worm\", \"Alps\", \"Bond\", \"Pan\", \"Beijing\", \"Racket\", \"Cross\", \"Seal\", \"Aztec\", \"Maple\", \"Parachute\", \"Hotel\", \"Berry\", \"Soldier\", \"Ray\", \"Post\", \"Greece\", \"Square\", \"Mass\", \"Bat\", \"Wave\", \"Car\", \"Smuggler\", \"England\", \"Crash\", \"Tail\", \"Card\", \"Horn\", \"Capital\", \"Fence\", \"Deck\", \"Buffalo\", \"Microscope\", \"Jet\", \"Duck\", \"Ring\", \"Train\", \"Field\", \"Gold\", \"Tick\", \"Check\", \"Queen\", \"Strike\", \"Kangaroo\", \"Spike\", \"Scientist\", \"Engine\", \"Shakespeare\", \"Wind\", \"Kid\", \"Embassy\", \"Robot\", \"Note\", \"Ground\", \"Draft\", \"Ham\", \"War\", \"Mouse\", \"Center\", \"China\", \"Bolt\", \"Spot\", \"Piano\", \"Pupil\", \"Plot\", \"Lion\", \"Police\", \"Head\", \"Litter\", \"Concert\", \"Mug\", \"Vacuum\", \"Atlantis\", \"Straw\", \"Switch\", \"Skyscraper\", \"Laser\", \"Scuba Diver\", \"Africa\", \"Plastic\", \"Dwarf\", \"Lap\", \"Life\", \"Honey\", \"Horseshoe\", \"Unicorn\", \"Spy\", \"Pants\", \"Wall\", \"Paper\", \"Sound\", \"Ice\", \"Tag\", \"Web\", \"Fan\", \"Orange\", \"Temple\", \"Canada\", \"Scorpion\", \"Undertaker\", \"Mail\", \"Europe\", \"Soul\", \"Apple\", \"Pole\", \"Tap\", \"Mouth\", \"Ambulance\", \"Dress\", \"IceCream\", \"Rabbit\", \"Buck\", \"Agent\", \"Sock\", \"Nut\", \"Boot\", \"Ghost\", \"Oil\", \"Superhero\", \"Code\", \"Kiwi\", \"Hospital\", \"Saturn\", \"Film\", \"Button\", \"Snowman\", \"Helicopter\", \"Log\", \"Princess\", \"Time\", \"Cook\", \"Revolution\", \"Shoe\", \"Mole\", \"Spell\", \"Grass\", \"Washer\", \"Game\", \"Beat\", \"Hole\", \"Horse\", \"Pirate\", \"Link\", \"Dance\", \"Fly\", \"Pit\", \"Server\", \"School\", \"Lock\", \"Brush\", \"Pool\", \"Star\", \"Jam\", \"Organ\", \"Berlin\", \"Face\", \"Luck\", \"Amazon\", \"Cast\", \"Gas\", \"Club\", \"Sink\", \"Water\", \"Chair\", \"Shark\", \"Jupiter\", \"Copper\", \"Jack\", \"Platypus\", \"Stick\", \"Olive\", \"Grace\", \"Bear\", \"Glass\", \"Row\", \"Pistol\", \"London\", \"Rock\", \"Van\", \"Vet\", \"Beach\", \"Charge\", \"Port\", \"Disease\", \"Palm\", \"Moscow\", \"Pin\", \"Washington\", \"Pyramid\", \"Opera\", \"Casino\", \"Pilot\", \"String\", \"Night\", \"Chest\", \"Yard\", \"Teacher\", \"Pumpkin\", \"Thief\", \"Bark\", \"Bug\", \"Mint\", \"Cycle\", \"Telescope\", \"Calf\", \"Air\", \"Box\", \"Mount\", \"Thumb\", \"Antarctica\", \"Trunk\", \"Snow\", \"Penguin\", \"Root\", \"Bar\", \"File\", \"Hawk\", \"Battery\", \"Compound\", \"Slug\", \"Octopus\", \"Whip\", \"America\", \"Ivory\", \"Pound\", \"Sub\", \"Cliff\", \"Lab\", \"Eagle\", \"Genius\", \"Ship\", \"Dice\", \"Hood\", \"Heart\", \"Novel\", \"Pipe\", \"Himalayas\", \"Crown\", \"Round\", \"India\", \"Needle\", \"Shop\", \"Watch\", \"Lead\", \"Tie\", \"Table\", \"Cell\", \"Cover\", \"Czech\", \"Back\", \"Bomb\", \"Ruler\", \"Forest\", \"Bottle\", \"Space\", \"Hook\", \"Doctor\", \"Ball\", \"Bow\", \"Degree\", \"Rome\", \"Plane\", \"Giant\", \"Nail\", \"Dragon\", \"Stadium\", \"Flute\", \"Carrot\", \"Wake\", \"Fighter\", \"Model\", \"Tokyo\", \"Eye\", \"Mexico\", \"Hand\", \"Swing\", \"Key\", \"Alien\", \"Tower\", \"Poison\", \"Cricket\", \"Cold\", \"Knife\", \"Church\", \"Board\", \"Cloak\", \"Ninja\", \"Olympus\", \"Belt\", \"Light\", \"Death\", \"Stock\", \"Millionaire\", \"Day\", \"Knight\", \"Pie\", \"Bed\", \"Circle\", \"Rose\", \"Change\", \"Cap\", \"Triangle\", \"Chick\"]\n",
    "words = [x.lower() for x in words_upper]\n",
    "for word in words :\n",
    "    if ' ' in word :\n",
    "        words.remove(word)\n",
    "\n",
    "\n",
    "# generate new board\n",
    "def new_game(words) :\n",
    "    board = random.sample(words, 25)\n",
    "\n",
    "    p1 = board[:9]\n",
    "    p2 = board[9:17]\n",
    "    neu = board[17:24]\n",
    "    assassin = [board[24]]\n",
    "    p1_vecs = model[p1]\n",
    "    p2_vecs = model[p2]\n",
    "    assassin_vec = model[assassin]\n",
    "    \n",
    "    return board, p1, p2, neu, assassin, p1_vecs, p2_vecs, assassin_vec\n",
    "    \n",
    "# https://stackoverflow.com/questions/40828929/sklearn-mean-distance-from-centroid-of-each-cluster\n",
    "\n",
    "def clustering(vecs, n=5) :\n",
    "    initial = KMeans(n_clusters=n)\n",
    "    clusters = initial.fit_predict(vecs)\n",
    "    centroids = initial.cluster_centers_\n",
    "    \n",
    "    # finding cluster size and tightness\n",
    "    mean_dists = {}\n",
    "    mean_count = {}\n",
    "    for i in range(n):\n",
    "        mean_dists[i] = 0\n",
    "        mean_count[i] = 0\n",
    "    \n",
    "    for i in range(len(vecs)) :\n",
    "        cluster = clusters[i]\n",
    "        centroid = centroids[cluster]\n",
    "        dist = np.linalg.norm(centroid-p1_vecs[i])\n",
    "        mean_dists[cluster] += dist\n",
    "        mean_count[cluster] += 1\n",
    "    \n",
    "    mean_of_cluster = []\n",
    "    for i in range(n):\n",
    "        mean_of_cluster.append(mean_dists[i]/mean_count[i])\n",
    "    \n",
    "\n",
    "    \n",
    "    return clusters, mean_count, mean_of_cluster\n",
    "\n",
    "# finding largest cluster from list of clusters\n",
    "def largest_cluster(clusters, mean_count) :\n",
    "    cur_max = mean_count[0]\n",
    "    max_i = 0\n",
    "    for i in range(len(mean_count)):\n",
    "        if mean_count[i] > cur_max :\n",
    "            max_i = i\n",
    "            cur_max = mean_count[i]\n",
    "    \n",
    "    res = []\n",
    "    for i in range(len(clusters)) :\n",
    "        if clusters[i] == max_i :\n",
    "            res.append(p1[i])\n",
    "            \n",
    "    return max_i, res\n",
    "\n",
    "# spymaster gives hint based on word cluster, opponent's words, and assassin\n",
    "def give_hint(pos, neg, restriction=50000):\n",
    "    full_hint = model.most_similar(positive=pos, negative=neg, restrict_vocab=restriction)\n",
    "    index = 0\n",
    "    for i, word in enumerate(board):\n",
    "        if full_hint[index][0] in word or word in full_hint[index][0]:\n",
    "            index += 1\n",
    "            i = 0\n",
    "    top_5_hints = []\n",
    "    for i in range(5) :\n",
    "        top_5_hints.append(full_hint[i][0])\n",
    "        \n",
    "    print \"top 5 hints: \" + str(top_5_hints)\n",
    "    return full_hint[index][0]\n",
    "\n",
    "# evalutes hints for similarities to team's words\n",
    "def hint_evaluator(remaining, hint, cluster) :\n",
    "    \n",
    "    similarities = []\n",
    "    for word in remaining:\n",
    "        prob = model.similarity(hint, word)\n",
    "        similarities.append((word, prob))\n",
    "    \n",
    "    sort_by_similarity = sorted(similarities, key=lambda tup: tup[1], reverse=True)\n",
    "    #print sort_by_similarity\n",
    "    res = 0\n",
    "    for i in range(len(remaining)) :\n",
    "        if sort_by_similarity[i][1] > 0.1 :\n",
    "            res += 1\n",
    "        \n",
    "        if res >= cluster :\n",
    "            break\n",
    "    \n",
    "    return res\n",
    "\n",
    "# guesser agent compares remaining words on board with hint, and returns number of words with highest similarities\n",
    "\n",
    "def guesser(remaining, hint, num=1) :\n",
    "    \n",
    "    potential = []\n",
    "    for word in remaining:\n",
    "        prob = model.similarity(hint, word)\n",
    "        potential.append((word, prob))\n",
    "    \n",
    "    \n",
    "    potential_sorted = sorted(potential, key=lambda tup: tup[1], reverse=True)\n",
    "    #print potential_sorted\n",
    "    return potential_sorted[:num]\n",
    "\n",
    "# def game_turn(player, player_vecs)"
   ]
  },
  {
   "cell_type": "code",
   "execution_count": 154,
   "metadata": {
    "scrolled": true
   },
   "outputs": [
    {
     "name": "stdout",
     "output_type": "stream",
     "text": [
      "board: ['bermuda', 'spine', 'table', 'bugle', 'spot', 'light', 'tail', 'satellite', 'brush', 'angel', 'chocolate', 'piano', 'force', 'drop', 'boom', 'whale', 'france', 'temple', 'diamond', 'australia', 'plate', 'bomb', 'heart', 'novel', 'nut']\n",
      "p1 words: ['bermuda', 'spine', 'table', 'bugle', 'spot', 'light', 'tail', 'satellite', 'brush']\n",
      " \n",
      "turn 0\n",
      "largest cluster: ['bermuda', 'table', 'spot', 'light', 'satellite', 'brush']\n",
      "top 5 hints: [u'place', u'spots', u'off', u'only', u'clear']\n",
      "hint, number: place, 5\n",
      "guesser: [('spot', 0.57017744), ('table', 0.43610263), ('light', 0.30608368), ('france', 0.303637), ('heart', 0.28636098)]\n",
      " \n",
      "turn 1\n",
      "largest cluster: ['bermuda', 'spine', 'tail', 'satellite', 'brush']\n",
      "top 5 hints: [u'surface', u'tip', u'legs', u'arm', u'tails']\n",
      "hint, number: surface, 4\n",
      "guesser: [('tail', 0.3648338), ('plate', 0.3553289), ('brush', 0.27691865), ('spine', 0.2729713)]\n",
      " \n",
      "turn 2\n",
      "largest cluster: ['bermuda', 'bugle', 'satellite']\n",
      "top 5 hints: [u'satellites', u'wireless', u'shortwave', u'communications', u'corps']\n",
      "hint, number: wireless, 3\n",
      "guesser: [('satellite', 0.47369), ('boom', 0.1861119), ('force', 0.13753267)]\n",
      " \n",
      "turn 3\n",
      "largest cluster: ['bermuda', 'bugle']\n",
      "top 5 hints: [u'cayman', u'bahamas', u'corps', u'miramar', u'barbados']\n",
      "hint, number: cayman, 1\n",
      "guesser: [('bermuda', 0.61203164)]\n",
      " \n",
      "turn 4\n",
      "largest cluster: ['bugle']\n",
      "top 5 hints: [u'corps', u'bagpipes', u'rayner', u'pianos', u'marching']\n",
      "hint, number: corps, 1\n",
      "guesser: [('bugle', 0.32751492)]\n",
      " \n"
     ]
    }
   ],
   "source": [
    "\n",
    "success = []\n",
    "num_tries = []\n",
    "guess_ratio = []\n",
    "for x in range(1) :\n",
    "    board, p1, p2, neu, assassin, p1_vecs, p2_vecs, assassin_vec = new_game(words)\n",
    "    print \"board: \" + str(board)\n",
    "    print \"p1 words: \" + str(p1)\n",
    "    print ' '\n",
    "    # print p2\n",
    "    win = False\n",
    "    k = 0\n",
    "    incorrect_guesses = 0\n",
    "    while k < 15 :\n",
    "        p1_vecs = model[p1]\n",
    "        n = len(p1)/2 -1\n",
    "        if n < 1:\n",
    "            n=1\n",
    "        clusters, mean_count, mean_of_cluster = clustering(p1_vecs, n)\n",
    "        num, largest = largest_cluster(clusters, mean_count)\n",
    "        print \"turn \" + str(k)\n",
    "        print \"largest cluster: \" + str(largest)\n",
    "        hint = give_hint(largest, assassin, restriction=50000)\n",
    "        num_words = hint_evaluator(p1, hint, len(largest))\n",
    "        guesses = guesser(board, hint, num_words)\n",
    "        print \"hint, number: \" + hint + \", \" + str(num_words)\n",
    "        print \"guesser: \" + str(guesses)\n",
    "        print ' '\n",
    "        if assassin[0] in guesses :\n",
    "            break\n",
    "\n",
    "        for i in range(len(guesses)) :\n",
    "            if guesses[i][0] in board :\n",
    "                board.remove(guesses[i][0])\n",
    "            if guesses[i][0] in p2 :\n",
    "                p2.remove(guesses[i][0])\n",
    "                incorrect_guesses += 1\n",
    "            if guesses[i][0] in p1 :\n",
    "                p1.remove(guesses[i][0])\n",
    "        #print p1\n",
    "        if not p1:\n",
    "            win = True\n",
    "            break\n",
    "        k += 1\n",
    "    \n",
    "    if win :\n",
    "        success.append(1.)\n",
    "    else :\n",
    "        success.append(0.)\n",
    "        \n",
    "    num_tries.append(k)\n",
    "    guess_ratio.append(incorrect_guesses/float((incorrect_guesses+9)))\n",
    "# print success\n",
    "#print np.mean(success)\n",
    "#print np.mean(num_tries)\n",
    "#print np.mean(guess_ratio)\n"
   ]
  },
  {
   "cell_type": "code",
   "execution_count": 51,
   "metadata": {},
   "outputs": [
    {
     "name": "stdout",
     "output_type": "stream",
     "text": [
      "(1, ['alien', 'key', 'europe', 'alps', 'pound'])\n"
     ]
    }
   ],
   "source": [
    "# other choice: find largest count\n",
    "\n",
    "\n",
    "combined = [0, trial1[0], trial2[0], trial3[0]]\n",
    "\n",
    "words1 = largest_cluster(trial1[0], trial1[1])\n",
    "words2 = largest_cluster(trial2[0], trial2[1])\n",
    "\n",
    "print words1"
   ]
  },
  {
   "cell_type": "code",
   "execution_count": 23,
   "metadata": {},
   "outputs": [],
   "source": [
    "full_hint = model.most_similar(\n",
    "    positive=words1[1],\n",
    "    negative=p2 + [assassin],\n",
    "    restrict_vocab=50000\n",
    ")"
   ]
  },
  {
   "cell_type": "code",
   "execution_count": 22,
   "metadata": {},
   "outputs": [
    {
     "name": "stdout",
     "output_type": "stream",
     "text": [
      "В\n"
     ]
    }
   ],
   "source": [
    "index = 0\n",
    "all_checked = False\n",
    "for i, word in enumerate(board):\n",
    "#         print word\n",
    "#         print full_hint[index][0]\n",
    "    if full_hint[index][0] in word or word in full_hint[index][0]:\n",
    "        index += 1\n",
    "        i = 0\n",
    "    \n",
    "hint = full_hint[index][0]\n",
    "print hint"
   ]
  },
  {
   "cell_type": "code",
   "execution_count": 13,
   "metadata": {},
   "outputs": [
    {
     "name": "stdout",
     "output_type": "stream",
     "text": [
      "theater\n"
     ]
    }
   ],
   "source": [
    "print assassin"
   ]
  },
  {
   "cell_type": "code",
   "execution_count": 24,
   "metadata": {},
   "outputs": [
    {
     "name": "stdout",
     "output_type": "stream",
     "text": [
      "[('snow', -0.063674614), ('amazon', -0.08624632), ('straw', -0.0966843), ('skyscraper', -0.10037614), ('box', -0.10054034)]\n"
     ]
    }
   ],
   "source": [
    "similarities = []\n",
    "for word in board:\n",
    "    prob = model.similarity(hint, word)\n",
    "    similarities.append((word, prob))\n",
    "    \n",
    "sort_by_similarity = sorted(similarities, key=lambda tup: tup[1], reverse=True)\n",
    "\n",
    "res = 0\n",
    "for i in range(len(words1[1])) :\n",
    "    if sort_by_similarity[i][1] > 0.2 :\n",
    "        res += 1\n",
    "        \n",
    "\n",
    "print sort_by_similarity[:len(words1[1])]"
   ]
  },
  {
   "cell_type": "code",
   "execution_count": 26,
   "metadata": {},
   "outputs": [
    {
     "name": "stdout",
     "output_type": "stream",
     "text": [
      "(1, ['space', 'grace', 'smuggler', 'time', 'temple'])\n"
     ]
    }
   ],
   "source": [
    "print words1"
   ]
  },
  {
   "cell_type": "code",
   "execution_count": null,
   "metadata": {},
   "outputs": [],
   "source": []
  }
 ],
 "metadata": {
  "kernelspec": {
   "display_name": "Python 2",
   "language": "python",
   "name": "python2"
  },
  "language_info": {
   "codemirror_mode": {
    "name": "ipython",
    "version": 2
   },
   "file_extension": ".py",
   "mimetype": "text/x-python",
   "name": "python",
   "nbconvert_exporter": "python",
   "pygments_lexer": "ipython2",
   "version": "2.7.15"
  }
 },
 "nbformat": 4,
 "nbformat_minor": 2
}
